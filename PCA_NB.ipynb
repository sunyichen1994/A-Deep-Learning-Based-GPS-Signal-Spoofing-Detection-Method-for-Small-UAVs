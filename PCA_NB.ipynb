{
 "cells": [
  {
   "cell_type": "code",
   "execution_count": 1,
   "id": "a974f819",
   "metadata": {},
   "outputs": [],
   "source": [
    "# 利用朴素贝叶斯进行多变量时序预测欺骗干扰\n",
    "\n",
    "# 导入库\n",
    "import numpy as np\n",
    "import matplotlib.pyplot as plt\n",
    "import matplotlib.image as mpimg\n",
    "import pandas as pd"
   ]
  },
  {
   "cell_type": "code",
   "execution_count": 2,
   "id": "a0ba2422",
   "metadata": {},
   "outputs": [],
   "source": [
    "# 导入数据集\n",
    "#dataset = pd.read_csv('./data/SMOTE数据拆分/随机过采样+随机欠采样.csv')\n",
    "#dataset = pd.read_csv('./data/SMOTE数据拆分/随机欠采样.csv')\n",
    "#dataset = pd.read_csv('./data/SMOTE数据拆分/ADASYN.csv')\n",
    "#dataset = pd.read_csv('./data/SMOTE数据拆分/SMOTE.csv')\n",
    "#dataset = pd.read_csv('./data/SMOTE数据拆分/SMOTE+随机欠采样.csv')\n",
    "#dataset = pd.read_csv('./data/SMOTE数据拆分/Borderline-SMOTE.csv')\n",
    "#dataset = pd.read_csv('./data/SMOTE数据拆分/Borderline-SMOTE SVM.csv')\n",
    "dataset = pd.read_csv('./data/SMOTE数据拆分/0在第一位.csv')\n",
    "#dataset = pd.read_csv('./data/SMOTE数据拆分/1在第一位.csv')\n",
    "#dataset = pd.read_csv('./data/SMOTE数据拆分/2在第一位.csv')\n",
    "#dataset = pd.read_csv('./data/SMOTE数据拆分/3在第一位.csv')\n",
    "#dataset = pd.read_csv('./data/SMOTE数据拆分/4在第一位.csv')\n",
    "#dataset = pd.read_csv('./data/SMOTE数据拆分/5在第一位.csv')\n",
    "#dataset = pd.read_csv('./data/SMOTE数据拆分/6在第一位.csv')\n",
    "#dataset = pd.read_csv('./data/SMOTE数据拆分/7在第一位.csv')\n",
    "#dataset = pd.read_csv('./data/SMOTE数据拆分/8在第一位.csv')\n",
    "#dataset = pd.read_csv('./data/SMOTE数据拆分/9在第一位.csv')"
   ]
  },
  {
   "cell_type": "code",
   "execution_count": 3,
   "id": "a1cfa31b",
   "metadata": {},
   "outputs": [
    {
     "data": {
      "text/html": [
       "<div>\n",
       "<style scoped>\n",
       "    .dataframe tbody tr th:only-of-type {\n",
       "        vertical-align: middle;\n",
       "    }\n",
       "\n",
       "    .dataframe tbody tr th {\n",
       "        vertical-align: top;\n",
       "    }\n",
       "\n",
       "    .dataframe thead th {\n",
       "        text-align: right;\n",
       "    }\n",
       "</style>\n",
       "<table border=\"1\" class=\"dataframe\">\n",
       "  <thead>\n",
       "    <tr style=\"text-align: right;\">\n",
       "      <th></th>\n",
       "      <th>count</th>\n",
       "      <th>gpsPdop</th>\n",
       "      <th>gpsNumSv</th>\n",
       "      <th>gpsWeek</th>\n",
       "      <th>itow</th>\n",
       "      <th>gpsSec</th>\n",
       "      <th>P_Sol_Status</th>\n",
       "      <th>Pos_Type</th>\n",
       "      <th>AvionicsTemp</th>\n",
       "      <th>MainPowerV</th>\n",
       "      <th>...</th>\n",
       "      <th>rcState</th>\n",
       "      <th>Failure_ad</th>\n",
       "      <th>leftRPM</th>\n",
       "      <th>AirHeight</th>\n",
       "      <th>Failure</th>\n",
       "      <th>WWest</th>\n",
       "      <th>WSouth</th>\n",
       "      <th>Event</th>\n",
       "      <th>Capacity</th>\n",
       "      <th>Jammer</th>\n",
       "    </tr>\n",
       "  </thead>\n",
       "  <tbody>\n",
       "    <tr>\n",
       "      <th>0</th>\n",
       "      <td>157.0</td>\n",
       "      <td>2.5</td>\n",
       "      <td>11.0</td>\n",
       "      <td>2176.0</td>\n",
       "      <td>438825400.0</td>\n",
       "      <td>6287.8</td>\n",
       "      <td>0.0</td>\n",
       "      <td>16.0</td>\n",
       "      <td>41.0</td>\n",
       "      <td>24.7</td>\n",
       "      <td>...</td>\n",
       "      <td>1.0</td>\n",
       "      <td>64.0</td>\n",
       "      <td>0.0</td>\n",
       "      <td>9.1</td>\n",
       "      <td>3145920.0</td>\n",
       "      <td>-3.46</td>\n",
       "      <td>2.11</td>\n",
       "      <td>0.0</td>\n",
       "      <td>0.0</td>\n",
       "      <td>1</td>\n",
       "    </tr>\n",
       "    <tr>\n",
       "      <th>1</th>\n",
       "      <td>161.0</td>\n",
       "      <td>1.0</td>\n",
       "      <td>31.0</td>\n",
       "      <td>2190.0</td>\n",
       "      <td>289780800.0</td>\n",
       "      <td>1422.4</td>\n",
       "      <td>0.0</td>\n",
       "      <td>50.0</td>\n",
       "      <td>29.0</td>\n",
       "      <td>24.7</td>\n",
       "      <td>...</td>\n",
       "      <td>1.0</td>\n",
       "      <td>64.0</td>\n",
       "      <td>0.0</td>\n",
       "      <td>181.0</td>\n",
       "      <td>3145920.0</td>\n",
       "      <td>1.50</td>\n",
       "      <td>-1.53</td>\n",
       "      <td>0.0</td>\n",
       "      <td>0.0</td>\n",
       "      <td>0</td>\n",
       "    </tr>\n",
       "    <tr>\n",
       "      <th>2</th>\n",
       "      <td>37.0</td>\n",
       "      <td>1.0</td>\n",
       "      <td>31.0</td>\n",
       "      <td>2190.0</td>\n",
       "      <td>289912800.0</td>\n",
       "      <td>1554.4</td>\n",
       "      <td>0.0</td>\n",
       "      <td>50.0</td>\n",
       "      <td>30.0</td>\n",
       "      <td>24.7</td>\n",
       "      <td>...</td>\n",
       "      <td>1.0</td>\n",
       "      <td>64.0</td>\n",
       "      <td>0.0</td>\n",
       "      <td>181.2</td>\n",
       "      <td>3145920.0</td>\n",
       "      <td>2.33</td>\n",
       "      <td>-1.54</td>\n",
       "      <td>0.0</td>\n",
       "      <td>0.0</td>\n",
       "      <td>0</td>\n",
       "    </tr>\n",
       "    <tr>\n",
       "      <th>3</th>\n",
       "      <td>170.0</td>\n",
       "      <td>2.5</td>\n",
       "      <td>11.0</td>\n",
       "      <td>2176.0</td>\n",
       "      <td>438838400.0</td>\n",
       "      <td>6300.8</td>\n",
       "      <td>0.0</td>\n",
       "      <td>16.0</td>\n",
       "      <td>41.0</td>\n",
       "      <td>24.7</td>\n",
       "      <td>...</td>\n",
       "      <td>1.0</td>\n",
       "      <td>64.0</td>\n",
       "      <td>0.0</td>\n",
       "      <td>8.5</td>\n",
       "      <td>3145920.0</td>\n",
       "      <td>-3.50</td>\n",
       "      <td>2.47</td>\n",
       "      <td>0.0</td>\n",
       "      <td>0.0</td>\n",
       "      <td>1</td>\n",
       "    </tr>\n",
       "    <tr>\n",
       "      <th>4</th>\n",
       "      <td>124.0</td>\n",
       "      <td>1.0</td>\n",
       "      <td>31.0</td>\n",
       "      <td>2190.0</td>\n",
       "      <td>289743600.0</td>\n",
       "      <td>1385.2</td>\n",
       "      <td>0.0</td>\n",
       "      <td>50.0</td>\n",
       "      <td>29.0</td>\n",
       "      <td>24.9</td>\n",
       "      <td>...</td>\n",
       "      <td>1.0</td>\n",
       "      <td>64.0</td>\n",
       "      <td>0.0</td>\n",
       "      <td>178.3</td>\n",
       "      <td>3145920.0</td>\n",
       "      <td>2.43</td>\n",
       "      <td>-1.39</td>\n",
       "      <td>0.0</td>\n",
       "      <td>0.0</td>\n",
       "      <td>0</td>\n",
       "    </tr>\n",
       "  </tbody>\n",
       "</table>\n",
       "<p>5 rows × 65 columns</p>\n",
       "</div>"
      ],
      "text/plain": [
       "   count  gpsPdop  gpsNumSv  gpsWeek         itow  gpsSec  P_Sol_Status  \\\n",
       "0  157.0      2.5      11.0   2176.0  438825400.0  6287.8           0.0   \n",
       "1  161.0      1.0      31.0   2190.0  289780800.0  1422.4           0.0   \n",
       "2   37.0      1.0      31.0   2190.0  289912800.0  1554.4           0.0   \n",
       "3  170.0      2.5      11.0   2176.0  438838400.0  6300.8           0.0   \n",
       "4  124.0      1.0      31.0   2190.0  289743600.0  1385.2           0.0   \n",
       "\n",
       "   Pos_Type  AvionicsTemp  MainPowerV  ...  rcState  Failure_ad  leftRPM  \\\n",
       "0      16.0          41.0        24.7  ...      1.0        64.0      0.0   \n",
       "1      50.0          29.0        24.7  ...      1.0        64.0      0.0   \n",
       "2      50.0          30.0        24.7  ...      1.0        64.0      0.0   \n",
       "3      16.0          41.0        24.7  ...      1.0        64.0      0.0   \n",
       "4      50.0          29.0        24.9  ...      1.0        64.0      0.0   \n",
       "\n",
       "   AirHeight    Failure  WWest  WSouth  Event  Capacity  Jammer  \n",
       "0        9.1  3145920.0  -3.46    2.11    0.0       0.0       1  \n",
       "1      181.0  3145920.0   1.50   -1.53    0.0       0.0       0  \n",
       "2      181.2  3145920.0   2.33   -1.54    0.0       0.0       0  \n",
       "3        8.5  3145920.0  -3.50    2.47    0.0       0.0       1  \n",
       "4      178.3  3145920.0   2.43   -1.39    0.0       0.0       0  \n",
       "\n",
       "[5 rows x 65 columns]"
      ]
     },
     "execution_count": 3,
     "metadata": {},
     "output_type": "execute_result"
    }
   ],
   "source": [
    "# 查看数据集的前5个值\n",
    "dataset.head()"
   ]
  },
  {
   "cell_type": "code",
   "execution_count": 4,
   "id": "fa125134",
   "metadata": {},
   "outputs": [
    {
     "data": {
      "text/plain": [
       "(13828, 65)"
      ]
     },
     "execution_count": 4,
     "metadata": {},
     "output_type": "execute_result"
    }
   ],
   "source": [
    "dataset.shape"
   ]
  },
  {
   "cell_type": "code",
   "execution_count": 5,
   "id": "d738ab2c",
   "metadata": {
    "scrolled": true
   },
   "outputs": [
    {
     "data": {
      "text/html": [
       "<div>\n",
       "<style scoped>\n",
       "    .dataframe tbody tr th:only-of-type {\n",
       "        vertical-align: middle;\n",
       "    }\n",
       "\n",
       "    .dataframe tbody tr th {\n",
       "        vertical-align: top;\n",
       "    }\n",
       "\n",
       "    .dataframe thead th {\n",
       "        text-align: right;\n",
       "    }\n",
       "</style>\n",
       "<table border=\"1\" class=\"dataframe\">\n",
       "  <thead>\n",
       "    <tr style=\"text-align: right;\">\n",
       "      <th></th>\n",
       "      <th>count</th>\n",
       "      <th>gpsPdop</th>\n",
       "      <th>gpsNumSv</th>\n",
       "      <th>gpsWeek</th>\n",
       "      <th>itow</th>\n",
       "      <th>gpsSec</th>\n",
       "      <th>P_Sol_Status</th>\n",
       "      <th>Pos_Type</th>\n",
       "      <th>AvionicsTemp</th>\n",
       "      <th>MainPowerV</th>\n",
       "      <th>...</th>\n",
       "      <th>rcState</th>\n",
       "      <th>Failure_ad</th>\n",
       "      <th>leftRPM</th>\n",
       "      <th>AirHeight</th>\n",
       "      <th>Failure</th>\n",
       "      <th>WWest</th>\n",
       "      <th>WSouth</th>\n",
       "      <th>Event</th>\n",
       "      <th>Capacity</th>\n",
       "      <th>Jammer</th>\n",
       "    </tr>\n",
       "  </thead>\n",
       "  <tbody>\n",
       "    <tr>\n",
       "      <th>7842</th>\n",
       "      <td>191.638403</td>\n",
       "      <td>2.500000</td>\n",
       "      <td>10.000000</td>\n",
       "      <td>2176.0</td>\n",
       "      <td>4.385374e+08</td>\n",
       "      <td>5999.838403</td>\n",
       "      <td>0.000000</td>\n",
       "      <td>16.0</td>\n",
       "      <td>38.0</td>\n",
       "      <td>24.8</td>\n",
       "      <td>...</td>\n",
       "      <td>1.0</td>\n",
       "      <td>64.0</td>\n",
       "      <td>0.0</td>\n",
       "      <td>-10.563840</td>\n",
       "      <td>3145920.0</td>\n",
       "      <td>-0.471696</td>\n",
       "      <td>1.840848</td>\n",
       "      <td>0.0</td>\n",
       "      <td>0.0</td>\n",
       "      <td>1</td>\n",
       "    </tr>\n",
       "    <tr>\n",
       "      <th>613</th>\n",
       "      <td>179.791830</td>\n",
       "      <td>2.500000</td>\n",
       "      <td>11.000000</td>\n",
       "      <td>2176.0</td>\n",
       "      <td>4.388482e+08</td>\n",
       "      <td>6310.591830</td>\n",
       "      <td>0.000000</td>\n",
       "      <td>16.0</td>\n",
       "      <td>41.0</td>\n",
       "      <td>24.7</td>\n",
       "      <td>...</td>\n",
       "      <td>1.0</td>\n",
       "      <td>64.0</td>\n",
       "      <td>0.0</td>\n",
       "      <td>8.200000</td>\n",
       "      <td>3145920.0</td>\n",
       "      <td>-5.737588</td>\n",
       "      <td>2.538696</td>\n",
       "      <td>0.0</td>\n",
       "      <td>0.0</td>\n",
       "      <td>1</td>\n",
       "    </tr>\n",
       "    <tr>\n",
       "      <th>6373</th>\n",
       "      <td>188.000000</td>\n",
       "      <td>2.500000</td>\n",
       "      <td>6.000000</td>\n",
       "      <td>2176.0</td>\n",
       "      <td>4.388564e+08</td>\n",
       "      <td>6318.800000</td>\n",
       "      <td>0.000000</td>\n",
       "      <td>16.0</td>\n",
       "      <td>42.0</td>\n",
       "      <td>24.7</td>\n",
       "      <td>...</td>\n",
       "      <td>1.0</td>\n",
       "      <td>64.0</td>\n",
       "      <td>0.0</td>\n",
       "      <td>8.500000</td>\n",
       "      <td>3145920.0</td>\n",
       "      <td>-0.470000</td>\n",
       "      <td>-4.280000</td>\n",
       "      <td>0.0</td>\n",
       "      <td>0.0</td>\n",
       "      <td>1</td>\n",
       "    </tr>\n",
       "    <tr>\n",
       "      <th>13231</th>\n",
       "      <td>175.847641</td>\n",
       "      <td>4.619103</td>\n",
       "      <td>10.238206</td>\n",
       "      <td>2176.0</td>\n",
       "      <td>4.394870e+08</td>\n",
       "      <td>395.847641</td>\n",
       "      <td>11.019336</td>\n",
       "      <td>16.0</td>\n",
       "      <td>46.0</td>\n",
       "      <td>24.7</td>\n",
       "      <td>...</td>\n",
       "      <td>1.0</td>\n",
       "      <td>64.0</td>\n",
       "      <td>0.0</td>\n",
       "      <td>28.784764</td>\n",
       "      <td>3145920.0</td>\n",
       "      <td>6.096481</td>\n",
       "      <td>-0.944137</td>\n",
       "      <td>0.0</td>\n",
       "      <td>0.0</td>\n",
       "      <td>1</td>\n",
       "    </tr>\n",
       "    <tr>\n",
       "      <th>13331</th>\n",
       "      <td>84.647396</td>\n",
       "      <td>2.500000</td>\n",
       "      <td>8.000000</td>\n",
       "      <td>2176.0</td>\n",
       "      <td>4.383960e+08</td>\n",
       "      <td>5858.447396</td>\n",
       "      <td>0.000000</td>\n",
       "      <td>16.0</td>\n",
       "      <td>35.0</td>\n",
       "      <td>24.8</td>\n",
       "      <td>...</td>\n",
       "      <td>1.0</td>\n",
       "      <td>64.0</td>\n",
       "      <td>0.0</td>\n",
       "      <td>-21.200000</td>\n",
       "      <td>3145920.0</td>\n",
       "      <td>-0.801734</td>\n",
       "      <td>2.361328</td>\n",
       "      <td>0.0</td>\n",
       "      <td>0.0</td>\n",
       "      <td>1</td>\n",
       "    </tr>\n",
       "  </tbody>\n",
       "</table>\n",
       "<p>5 rows × 65 columns</p>\n",
       "</div>"
      ],
      "text/plain": [
       "            count   gpsPdop   gpsNumSv  gpsWeek          itow       gpsSec  \\\n",
       "7842   191.638403  2.500000  10.000000   2176.0  4.385374e+08  5999.838403   \n",
       "613    179.791830  2.500000  11.000000   2176.0  4.388482e+08  6310.591830   \n",
       "6373   188.000000  2.500000   6.000000   2176.0  4.388564e+08  6318.800000   \n",
       "13231  175.847641  4.619103  10.238206   2176.0  4.394870e+08   395.847641   \n",
       "13331   84.647396  2.500000   8.000000   2176.0  4.383960e+08  5858.447396   \n",
       "\n",
       "       P_Sol_Status  Pos_Type  AvionicsTemp  MainPowerV  ...  rcState  \\\n",
       "7842       0.000000      16.0          38.0        24.8  ...      1.0   \n",
       "613        0.000000      16.0          41.0        24.7  ...      1.0   \n",
       "6373       0.000000      16.0          42.0        24.7  ...      1.0   \n",
       "13231     11.019336      16.0          46.0        24.7  ...      1.0   \n",
       "13331      0.000000      16.0          35.0        24.8  ...      1.0   \n",
       "\n",
       "       Failure_ad  leftRPM  AirHeight    Failure     WWest    WSouth  Event  \\\n",
       "7842         64.0      0.0 -10.563840  3145920.0 -0.471696  1.840848    0.0   \n",
       "613          64.0      0.0   8.200000  3145920.0 -5.737588  2.538696    0.0   \n",
       "6373         64.0      0.0   8.500000  3145920.0 -0.470000 -4.280000    0.0   \n",
       "13231        64.0      0.0  28.784764  3145920.0  6.096481 -0.944137    0.0   \n",
       "13331        64.0      0.0 -21.200000  3145920.0 -0.801734  2.361328    0.0   \n",
       "\n",
       "       Capacity  Jammer  \n",
       "7842        0.0       1  \n",
       "613         0.0       1  \n",
       "6373        0.0       1  \n",
       "13231       0.0       1  \n",
       "13331       0.0       1  \n",
       "\n",
       "[5 rows x 65 columns]"
      ]
     },
     "execution_count": 5,
     "metadata": {},
     "output_type": "execute_result"
    }
   ],
   "source": [
    "# 数据集打乱顺序\n",
    "from sklearn.utils import shuffle  \n",
    "dataset = shuffle(dataset) \n",
    "dataset.head()"
   ]
  },
  {
   "cell_type": "code",
   "execution_count": 6,
   "id": "94085763",
   "metadata": {},
   "outputs": [],
   "source": [
    "# 将数据集拆分为独立变量和因变量\n",
    "X = dataset[dataset.columns[:-1]]   #从0到倒数第一列\n",
    "y = dataset.Jammer                  #只包括data的y这一列"
   ]
  },
  {
   "cell_type": "code",
   "execution_count": 7,
   "id": "317eba30",
   "metadata": {},
   "outputs": [
    {
     "name": "stdout",
     "output_type": "stream",
     "text": [
      "(13828, 65)\n"
     ]
    }
   ],
   "source": [
    "# 查看数据集的形状\n",
    "from sklearn.decomposition import PCA\n",
    "\n",
    "array = dataset.values\n",
    "print(array.shape)"
   ]
  },
  {
   "cell_type": "code",
   "execution_count": 8,
   "id": "f7e0a8ba",
   "metadata": {},
   "outputs": [],
   "source": [
    "# 将数据集分割为训练集和测试集\n",
    "from sklearn.model_selection import train_test_split\n",
    "\n",
    "X_train, X_test, y_train, y_test = train_test_split(X, y, test_size = 0.30, random_state = 34)"
   ]
  },
  {
   "cell_type": "code",
   "execution_count": 9,
   "id": "60091abd",
   "metadata": {},
   "outputs": [
    {
     "name": "stdout",
     "output_type": "stream",
     "text": [
      "(9679, 64)\n"
     ]
    }
   ],
   "source": [
    "# 特性缩放，使变量在单个缩放\n",
    "from sklearn.preprocessing import StandardScaler\n",
    "\n",
    "sc = StandardScaler()\n",
    "X_train = sc.fit_transform(X_train)\n",
    "X_test = sc.transform(X_test)\n",
    "\n",
    "print(X_train.shape)"
   ]
  },
  {
   "cell_type": "code",
   "execution_count": 10,
   "id": "61d163a4",
   "metadata": {},
   "outputs": [
    {
     "name": "stdout",
     "output_type": "stream",
     "text": [
      "[[ 0.50948064 -0.17274299  1.20555111 ... -1.97568587  0.\n",
      "   0.        ]\n",
      " [ 0.85532136 -0.09685492 -1.06567046 ...  0.64720527  0.\n",
      "   0.        ]\n",
      " [-1.5507417  -0.09685492 -1.26316798 ... -0.12315403  0.\n",
      "   0.        ]\n",
      " ...\n",
      " [ 0.66056361 -0.09685492 -0.17693158 ... -1.46556841  0.\n",
      "   0.        ]\n",
      " [-0.09485125 -0.17274299  1.00805358 ... -0.36180548  0.\n",
      "   0.        ]\n",
      " [ 1.10007771  0.0296252  -0.07818282 ...  2.379703    0.\n",
      "   0.        ]]\n",
      "[2.33077125e+01 3.17379352e+00 3.00102982e+00 2.46239991e+00\n",
      " 2.10269971e+00 1.93019095e+00 1.70753171e+00 1.56250806e+00\n",
      " 1.50675934e+00 1.36275690e+00 1.17558181e+00 1.09014459e+00\n",
      " 1.07595458e+00 1.01191655e+00 9.95323123e-01 8.81762775e-01\n",
      " 8.60476419e-01 8.07334369e-01 7.40367344e-01 6.71331954e-01\n",
      " 6.15584787e-01 5.77503095e-01 5.16995254e-01 4.67763421e-01\n",
      " 4.63313432e-01 4.01704311e-01 3.87237696e-01 3.72305871e-01\n",
      " 3.41812396e-01 3.26812380e-01 3.08989013e-01 2.77419345e-01\n",
      " 2.67669689e-01 2.47330656e-01 2.31132675e-01 1.64525941e-01\n",
      " 1.44478763e-01 9.11610811e-02 8.34509619e-02 6.69981340e-02\n",
      " 4.10309246e-02 3.24258007e-02 2.41943466e-02 2.33929843e-02\n",
      " 2.07985133e-02 1.92248133e-02 1.54768959e-02 1.35160856e-02\n",
      " 1.13479303e-02 7.98990156e-03 5.19906969e-03 4.08212197e-03\n",
      " 3.19779041e-03 2.12188541e-03 1.58475965e-04 7.05860770e-05\n",
      " 4.59663580e-30 1.19696026e-31 1.19696026e-31 1.19696026e-31\n",
      " 1.19696026e-31 1.19696026e-31 1.19696026e-31 1.19696026e-31]\n",
      "[4.01815594e-01 5.47149245e-02 5.17365477e-02 4.24507846e-02\n",
      " 3.62496977e-02 3.32757159e-02 2.94371603e-02 2.69370108e-02\n",
      " 2.59759253e-02 2.34933812e-02 2.02665577e-02 1.87936546e-02\n",
      " 1.85490244e-02 1.74450345e-02 1.71589705e-02 1.52012358e-02\n",
      " 1.48342676e-02 1.39181200e-02 1.27636354e-02 1.15734930e-02\n",
      " 1.06124343e-02 9.95592120e-03 8.91279034e-03 8.06405333e-03\n",
      " 7.98733731e-03 6.92522084e-03 6.67582220e-03 6.41840354e-03\n",
      " 5.89270830e-03 5.63411405e-03 5.32684637e-03 4.78259798e-03\n",
      " 4.61451783e-03 4.26388107e-03 3.98463440e-03 2.83636108e-03\n",
      " 2.49075580e-03 1.57158039e-03 1.43866103e-03 1.15502090e-03\n",
      " 7.07356646e-04 5.59007769e-04 4.17100808e-04 4.03285646e-04\n",
      " 3.58558008e-04 3.31428053e-04 2.66815464e-04 2.33011882e-04\n",
      " 1.95633757e-04 1.37742691e-04 8.96298714e-05 7.03741418e-05\n",
      " 5.51286211e-05 3.65804514e-05 2.73206192e-06 1.21687559e-06\n",
      " 7.92441532e-32 2.06351137e-33 2.06351137e-33 2.06351137e-33\n",
      " 2.06351137e-33 2.06351137e-33 2.06351137e-33 2.06351137e-33]\n",
      "1.0\n"
     ]
    }
   ],
   "source": [
    "#PCA分析\n",
    "from sklearn.decomposition import PCA\n",
    "pca = PCA(n_components=64)\n",
    "\n",
    "\n",
    "#数据的标准化\n",
    "from sklearn.preprocessing import StandardScaler\n",
    "\n",
    "X_norm = StandardScaler().fit_transform(X_train)\n",
    "print(X_norm)\n",
    "\n",
    "X_train_pca = pca.fit_transform(X_norm)\n",
    "#计算分析后各成分的方差以及方差比例\n",
    "var = pca.explained_variance_\n",
    "var_ratio = pca.explained_variance_ratio_\n",
    "print(var)\n",
    "print(var_ratio)#各个成分方差值\n",
    "print(sum(var_ratio))#成分方差总和"
   ]
  },
  {
   "cell_type": "code",
   "execution_count": 11,
   "id": "7edb77af",
   "metadata": {},
   "outputs": [],
   "source": [
    "##可视化方差比例\n",
    "#fig2 = plt.figure(figsize=(10,5))\n",
    "#plt.bar([1,2,3,4,5,6,7,8,9,10,11,12,13,14],var_ratio)\n",
    "#plt.xlabel('Components')\n",
    "#plt.ylabel('Variance ratio')\n",
    "#plt.show()"
   ]
  },
  {
   "cell_type": "code",
   "execution_count": 12,
   "id": "23d27a9a",
   "metadata": {},
   "outputs": [
    {
     "name": "stdout",
     "output_type": "stream",
     "text": [
      "(9679, 25) (9679, 64)\n",
      "[0.40181559 0.05471492 0.05173655 0.04245078 0.0362497  0.03327572\n",
      " 0.02943716 0.02693701 0.02597593 0.02349338 0.02026656 0.01879365\n",
      " 0.01854902 0.01744503 0.01715896 0.01520123 0.01483427 0.01391809\n",
      " 0.01276363 0.01157348 0.0106121  0.00995551 0.00891187 0.00806383\n",
      " 0.00798681]\n",
      "<class 'numpy.ndarray'>\n",
      "0.9320999999999999\n"
     ]
    },
    {
     "data": {
      "image/png": "[encoded data removed]",
      "text/plain": [
       "<Figure size 432x288 with 1 Axes>"
      ]
     },
     "metadata": {
      "needs_background": "light"
     },
     "output_type": "display_data"
    }
   ],
   "source": [
    "# 训练集数据降维到25维\n",
    "pca = PCA(n_components=25)\n",
    "X_train_pca = pca.fit_transform(X_norm)\n",
    "#var_ratio2 = pca.fit_transform(X_norm)\n",
    "print(X_train_pca.shape,X_norm.shape)\n",
    "\n",
    "# 计算方差比例\n",
    "var_ratio2 = pca.explained_variance_ratio_\n",
    "print(var_ratio2)\n",
    "print(type(var_ratio2))\n",
    "\n",
    "var = list(range(1, 26))\n",
    "\n",
    "#var_ratio2='{:.4f}'.format(var_ratio2[0])\n",
    "\n",
    "#var_ratio2=int(var_ratio2)\n",
    "\n",
    "var_ratio2 = np.around(var_ratio2,decimals=4)# 保留4位小数\n",
    "A=np.sum(var_ratio2)\n",
    "print(A)\n",
    "\n",
    "# 绘制图像\n",
    "\n",
    "#plt.bar(var,var_ratio2)\n",
    "plt.bar(var,var_ratio2,tick_label=[\"1\",\"2\",\"3\",\"4\",\"5\",\"6\",\"7\",\"8\",\"9\",\"10\",\"11\",\"12\",\"13\",\"14\",\"15\",\n",
    "                                   \"16\",\"17\",\"18\",\"19\",\"20\",\"21\",\"22\",\"23\",\"24\",\"25\"])\n",
    "\n",
    "plt.xlabel('Components')\n",
    "plt.ylabel('Variance ratio')\n",
    "\n",
    "\n",
    "#for i in range(len(var)):\n",
    "#    plt.text(x = i-0.1, y = var_ratio2[i]+1,s = var_ratio2[i] ) # s表示注释内容\n",
    "\n",
    "for var,var_ratio2 in zip(var,var_ratio2):   #柱子上的数字显示\n",
    " plt.text(var,var_ratio2,'%.4f'%var_ratio2,ha='center',va='bottom',fontsize=7);\n",
    "\n",
    "\n",
    "plt.show()"
   ]
  },
  {
   "cell_type": "code",
   "execution_count": 13,
   "id": "6d8fa05c",
   "metadata": {},
   "outputs": [
    {
     "data": {
      "image/png": "[encoded data removed]",
      "text/plain": [
       "<Figure size 432x288 with 1 Axes>"
      ]
     },
     "metadata": {
      "needs_background": "light"
     },
     "output_type": "display_data"
    }
   ],
   "source": [
    "#降维数据的可视化\n",
    "fig3 = plt.figure()\n",
    "plt.scatter(X_train_pca[:,0][y_train==0],X_train_pca[:,1][y_train==0],marker='x',label='negative')\n",
    "plt.scatter(X_train_pca[:,0][y_train==1],X_train_pca[:,1][y_train==1],marker='*',label='positive')\n",
    "plt.xlabel('PC1')\n",
    "plt.ylabel('PC2')\n",
    "plt.legend()\n",
    "plt.show()"
   ]
  },
  {
   "cell_type": "code",
   "execution_count": 14,
   "id": "b427acdc",
   "metadata": {},
   "outputs": [
    {
     "data": {
      "text/plain": [
       "GaussianNB()"
      ]
     },
     "execution_count": 14,
     "metadata": {},
     "output_type": "execute_result"
    }
   ],
   "source": [
    "# 降维后的模型建立与训练\n",
    "from sklearn.naive_bayes import GaussianNB\n",
    "\n",
    "PCA_NB = GaussianNB()\n",
    "PCA_NB.fit(X_train_pca,y_train)"
   ]
  },
  {
   "cell_type": "code",
   "execution_count": 15,
   "id": "6c836978",
   "metadata": {},
   "outputs": [],
   "source": [
    "#data = pd.read_csv('.\\data\\K=10\\K=5.csv')\n",
    "##data = pd.read_csv('.\\data\\GENEGPS64ALLAll.csv')\n",
    "\n",
    "##将数据集拆分为独立变量和因变量\n",
    "#X_test = data[data.columns[:-1]]   #从0到倒数第一列\n",
    "#y_test = data.Jammer                  #只包括data的y这一列\n",
    "##print(X_test)"
   ]
  },
  {
   "cell_type": "code",
   "execution_count": 16,
   "id": "0383f65c",
   "metadata": {},
   "outputs": [
    {
     "name": "stdout",
     "output_type": "stream",
     "text": [
      "[[ 5.39091488  0.56167714  1.16500355 ... -0.75741985 -0.68408853\n",
      "  -0.23906093]\n",
      " [-4.61807802 -0.23179024  1.65720781 ...  0.4178001   0.21658587\n",
      "  -0.96055651]\n",
      " [-5.1178416  -2.61416875  1.04312026 ... -0.2344396   0.73267823\n",
      "  -0.66557505]\n",
      " ...\n",
      " [ 6.48589951  1.24577717  0.95868845 ... -1.19318068  2.25047039\n",
      "  -0.45909906]\n",
      " [-3.7360563   1.39271575 -0.59164686 ...  0.44259336 -0.2812401\n",
      "   0.09036604]\n",
      " [ 5.55570955  3.35655795  1.56690382 ...  0.40003136 -1.32762773\n",
      "   0.11139515]]\n",
      "(4149, 25)\n"
     ]
    }
   ],
   "source": [
    "#测试集数据降维到25维\n",
    "pca = PCA(n_components=25)\n",
    "\n",
    "X_norm = StandardScaler().fit_transform(X_test)\n",
    "X_test_pca = pca.fit_transform(X_norm)\n",
    "#X_test_pca = pca.fit_transform(X_test)\n",
    "\n",
    "print(X_test_pca)\n",
    "print(X_test_pca.shape)"
   ]
  },
  {
   "cell_type": "code",
   "execution_count": 17,
   "id": "cef69e35",
   "metadata": {
    "scrolled": true
   },
   "outputs": [
    {
     "name": "stdout",
     "output_type": "stream",
     "text": [
      "[0 1 1 ... 0 1 0]\n",
      "(4149,)\n",
      "PCA测试集准确率: 0.9207\n",
      "\n",
      "\n",
      "PCA测试集精确率: 0.9307\n",
      "\n",
      "\n",
      "PCA测试集召回率: 0.9097\n",
      "\n",
      "\n",
      "PCA测试集F1值: 0.9200\n"
     ]
    }
   ],
   "source": [
    "#模型预测\n",
    "from sklearn.metrics import accuracy_score\n",
    "from sklearn.metrics import precision_score\n",
    "from sklearn.metrics import recall_score\n",
    "from sklearn.metrics import f1_score\n",
    "\n",
    "y_predict_pca = PCA_NB.predict(X_test_pca)\n",
    "print(y_predict_pca)\n",
    "print(y_predict_pca.shape)\n",
    "accuracy_pca = accuracy_score(y_test,y_predict_pca)\n",
    "print(\"PCA测试集准确率: {0:.4f}\".format(accuracy_pca))\n",
    "\n",
    "precision_pca =precision_score(y_test,y_predict_pca)\n",
    "print(\"\\n\\nPCA测试集精确率: {0:.4f}\".format(precision_pca))\n",
    "\n",
    "recall_pca =recall_score(y_test,y_predict_pca)\n",
    "print(\"\\n\\nPCA测试集召回率: {0:.4f}\".format(recall_pca))\n",
    "\n",
    "f1_pca =f1_score(y_test,y_predict_pca)\n",
    "print(\"\\n\\nPCA测试集F1值: {0:.4f}\".format(f1_pca))"
   ]
  },
  {
   "cell_type": "code",
   "execution_count": 18,
   "id": "9d579c63",
   "metadata": {},
   "outputs": [
    {
     "name": "stdout",
     "output_type": "stream",
     "text": [
      "[[1927  141]\n",
      " [ 188 1893]]\n"
     ]
    }
   ],
   "source": [
    "#制作PCA混淆矩阵\n",
    "from sklearn.metrics import confusion_matrix\n",
    "cm = confusion_matrix(y_test, y_predict_pca)\n",
    "print(cm)"
   ]
  },
  {
   "cell_type": "code",
   "execution_count": 19,
   "id": "c3b0986b",
   "metadata": {},
   "outputs": [
    {
     "name": "stdout",
     "output_type": "stream",
     "text": [
      "正确预测值的数量:  3820\n",
      "错误预测值的数量:  329\n"
     ]
    }
   ],
   "source": [
    "#从混淆矩阵中寻找准确性。\n",
    "a = cm.shape\n",
    "corrPred = 0\n",
    "falsePred = 0\n",
    "\n",
    "for row in range(a[0]):\n",
    "    for c in range(a[1]):\n",
    "        if row == c:\n",
    "            corrPred +=cm[row,c]\n",
    "        else:\n",
    "            falsePred += cm[row,c]\n",
    "print('正确预测值的数量: ', corrPred)\n",
    "print('错误预测值的数量: ', falsePred)\n",
    "#print ('\\n\\n朴素贝叶斯分类器的准确率为: ', corrPred/(cm.sum()))"
   ]
  },
  {
   "cell_type": "code",
   "execution_count": 20,
   "id": "626e977c",
   "metadata": {},
   "outputs": [
    {
     "name": "stdout",
     "output_type": "stream",
     "text": [
      "              precision    recall  f1-score   support\n",
      "\n",
      "           0     0.9111    0.9318    0.9213      2068\n",
      "           1     0.9307    0.9097    0.9200      2081\n",
      "\n",
      "    accuracy                         0.9207      4149\n",
      "   macro avg     0.9209    0.9207    0.9207      4149\n",
      "weighted avg     0.9209    0.9207    0.9207      4149\n",
      "\n"
     ]
    }
   ],
   "source": [
    "from sklearn.metrics import accuracy_score,f1_score,confusion_matrix,classification_report\n",
    "\n",
    "print(classification_report(y_test, y_predict_pca,digits=4))"
   ]
  },
  {
   "cell_type": "code",
   "execution_count": 21,
   "id": "26488c0e",
   "metadata": {},
   "outputs": [
    {
     "data": {
      "image/png": "[encoded data removed]",
      "text/plain": [
       "<Figure size 432x288 with 2 Axes>"
      ]
     },
     "metadata": {
      "needs_background": "light"
     },
     "output_type": "display_data"
    }
   ],
   "source": [
    "classes = list(set(y))\n",
    "classes.sort()\n",
    "confusion = confusion_matrix(y_predict_pca, y_test)\n",
    "plt.imshow(confusion, cmap=plt.cm.Blues)\n",
    "indices = range(len(confusion))\n",
    "plt.xticks(indices, classes, fontsize=20)\n",
    "plt.yticks(indices, classes, fontsize=20)\n",
    "plt.colorbar().ax.tick_params(labelsize=20)\n",
    "plt.xlabel('Predicted label', fontsize=20)\n",
    "plt.ylabel('True label', fontsize=20)\n",
    "for first_index in range(len(confusion)):\n",
    "    for second_index in range(len(confusion[first_index])):\n",
    "        plt.text(first_index, second_index, confusion[first_index][second_index],\n",
    "                 va='center', ha='center',fontsize=20, )\n",
    "\n",
    "plt.show()"
   ]
  },
  {
   "cell_type": "code",
   "execution_count": 22,
   "id": "096aedde",
   "metadata": {
    "scrolled": true
   },
   "outputs": [
    {
     "name": "stdout",
     "output_type": "stream",
     "text": [
      "10折交叉验证准确率： [0.9325 0.9325 0.9373 0.947  0.9373 0.9229 0.9373 0.9108 0.9349 0.9179]\n",
      "\n",
      "\n",
      "10折交叉验证平均准确率： 0.931\n"
     ]
    }
   ],
   "source": [
    "# K折交叉验证模块 \n",
    "from sklearn.model_selection import cross_val_score \n",
    "#使用K折交叉验证模块  \n",
    "#scores = cross_val_score(nvclassifier, X_test, y_test, cv=10, scoring='accuracy')  \n",
    "scores = cross_val_score(PCA_NB, X_test_pca, y_test, cv=10,scoring='accuracy')  \n",
    "\n",
    "scores = np.around(scores,decimals=4)\n",
    "\n",
    "#将10次的预测准确率打印出  \n",
    "print('10折交叉验证准确率：',scores)  \n",
    "# [0.92 1.   0.83 0.88 0.91 0.96 1.   1.   0.78 0.74]\n",
    "#将10次的预测准确平均率打印出0.901630434782608  \n",
    "\n",
    "scoresmean = np.around(scores.mean(),decimals=4)\n",
    "\n",
    "print('\\n\\n10折交叉验证平均准确率：',scoresmean)"
   ]
  },
  {
   "cell_type": "code",
   "execution_count": 23,
   "id": "849fd66c",
   "metadata": {},
   "outputs": [
    {
     "data": {
      "text/plain": [
       "((4149, 25), (4149,))"
      ]
     },
     "execution_count": 23,
     "metadata": {},
     "output_type": "execute_result"
    }
   ],
   "source": [
    "X_test_pca.shape, y_test.shape"
   ]
  },
  {
   "cell_type": "code",
   "execution_count": 24,
   "id": "52f9d719",
   "metadata": {},
   "outputs": [
    {
     "name": "stdout",
     "output_type": "stream",
     "text": [
      "10折交叉验证精确率： [0.8913 0.9018 0.8991 0.9266 0.9136 0.8894 0.9027 0.8767 0.9099 0.875 ]\n",
      "\n",
      "\n",
      "10折交叉验证平均精确率： 0.8986\n"
     ]
    }
   ],
   "source": [
    "precision = cross_val_score(PCA_NB, X_test_pca, y_test, cv=10,scoring='precision') \n",
    "\n",
    "precision = np.around(precision,decimals=4)\n",
    "\n",
    "print('10折交叉验证精确率：',precision)\n",
    "\n",
    "precisionmean = np.around(precision.mean(),decimals=4)\n",
    "\n",
    "print('\\n\\n10折交叉验证平均精确率：',precisionmean)"
   ]
  },
  {
   "cell_type": "code",
   "execution_count": 25,
   "id": "83f55578",
   "metadata": {},
   "outputs": [
    {
     "name": "stdout",
     "output_type": "stream",
     "text": [
      "10折交叉验证精确率： [0.9856 0.9712 0.9856 0.9712 0.9663 0.9663 0.9808 0.9567 0.9665 0.976 ]\n",
      "\n",
      "\n",
      "10折交叉验证平均召回率： 0.9726\n"
     ]
    }
   ],
   "source": [
    "recall = cross_val_score(PCA_NB, X_test_pca, y_test, cv=10,scoring='recall') \n",
    "\n",
    "recall = np.around(recall,decimals=4)\n",
    "\n",
    "print('10折交叉验证精确率：',recall)\n",
    "\n",
    "recallmean = np.around(recall.mean(),decimals=4)\n",
    "\n",
    "print('\\n\\n10折交叉验证平均召回率：',recallmean)"
   ]
  },
  {
   "cell_type": "code",
   "execution_count": 26,
   "id": "70bc35cd",
   "metadata": {},
   "outputs": [
    {
     "name": "stdout",
     "output_type": "stream",
     "text": [
      "10折交叉验证f1值： [0.9361 0.9352 0.9404 0.9484 0.9393 0.9263 0.9401 0.9149 0.9374 0.9227]\n",
      "\n",
      "\n",
      "10折交叉验证平均f1值： 0.9341\n"
     ]
    }
   ],
   "source": [
    "f1 = cross_val_score(PCA_NB, X_test_pca, y_test, cv=10,scoring='f1') \n",
    "\n",
    "f1 = np.around(f1,decimals=4)\n",
    "\n",
    "print('10折交叉验证f1值：',f1)\n",
    "\n",
    "f1mean = np.around(f1.mean(),decimals=4)\n",
    "\n",
    "print('\\n\\n10折交叉验证平均f1值：',f1mean)"
   ]
  },
  {
   "cell_type": "code",
   "execution_count": 27,
   "id": "71539770",
   "metadata": {},
   "outputs": [
    {
     "name": "stdout",
     "output_type": "stream",
     "text": [
      "10折交叉验证roc_auc值： [0.9812 0.985  0.9764 0.9902 0.9825 0.9836 0.9867 0.9799 0.9886 0.9722]\n",
      "\n",
      "\n",
      "10折交叉验证平均ROC_AUC值： 0.9826\n"
     ]
    }
   ],
   "source": [
    "roc_auc = cross_val_score(PCA_NB,  X_test_pca, y_test, cv=10,scoring='roc_auc') \n",
    "\n",
    "roc_auc = np.around(roc_auc,decimals=4)\n",
    "\n",
    "print('10折交叉验证roc_auc值：',roc_auc)\n",
    "\n",
    "roc_auc = np.around(roc_auc.mean(),decimals=4)\n",
    "\n",
    "print('\\n\\n10折交叉验证平均ROC_AUC值：',roc_auc.mean())"
   ]
  },
  {
   "cell_type": "code",
   "execution_count": 28,
   "id": "a1379d40",
   "metadata": {},
   "outputs": [
    {
     "name": "stdout",
     "output_type": "stream",
     "text": [
      "[0 1]\n"
     ]
    },
    {
     "data": {
      "image/png": "[encoded data removed]",
      "text/plain": [
       "<Figure size 432x288 with 1 Axes>"
      ]
     },
     "metadata": {
      "needs_background": "light"
     },
     "output_type": "display_data"
    }
   ],
   "source": [
    "from sklearn.metrics import precision_recall_curve\n",
    "precision, recall, t =precision_recall_curve(y_test, y_predict_pca) #y_score是预测的概率值，y_test是真实值标签值\n",
    "print(t) #t是阈值\n",
    "plt.xlabel('Recall')\n",
    "plt.ylabel('Precision')\n",
    "plt.ylim([0.0, 1.0])\n",
    "plt.xlim([0.0, 1.0])\n",
    "plt.plot(recall, precision)\n",
    "plt.title(\"Precision-Recall\")\n",
    "plt.show()"
   ]
  },
  {
   "cell_type": "code",
   "execution_count": null,
   "id": "2959a86b",
   "metadata": {},
   "outputs": [],
   "source": []
  }
 ],
 "metadata": {
  "kernelspec": {
   "display_name": "Python 3",
   "language": "python",
   "name": "python3"
  },
  "language_info": {
   "codemirror_mode": {
    "name": "ipython",
    "version": 3
   },
   "file_extension": ".py",
   "mimetype": "text/x-python",
   "name": "python",
   "nbconvert_exporter": "python",
   "pygments_lexer": "ipython3",
   "version": "3.6.13"
  }
 },
 "nbformat": 4,
 "nbformat_minor": 5
}
