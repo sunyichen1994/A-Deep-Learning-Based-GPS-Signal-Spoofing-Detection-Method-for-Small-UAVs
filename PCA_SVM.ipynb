{
 "cells": [
  {
   "cell_type": "code",
   "execution_count": 1,
   "id": "63cfa1a6",
   "metadata": {},
   "outputs": [],
   "source": [
    "#利用SVM进行多变量时序预测欺骗干扰\n",
    "\n",
    "#导入库\n",
    "import numpy as np\n",
    "import matplotlib.pyplot as plt\n",
    "import matplotlib.image as mpimg\n",
    "import pandas as pd"
   ]
  },
  {
   "cell_type": "code",
   "execution_count": 2,
   "id": "10607cf1",
   "metadata": {},
   "outputs": [],
   "source": [
    "# 导入数据集\n",
    "dataset = pd.read_csv('./data/SMOTE数据拆分/0在第一位.csv')\n",
    "#dataset = pd.read_csv('./data/SMOTE数据拆分/1在第一位.csv')\n",
    "#dataset = pd.read_csv('./data/SMOTE数据拆分/2在第一位.csv')\n",
    "#dataset = pd.read_csv('./data/SMOTE数据拆分/3在第一位.csv')\n",
    "#dataset = pd.read_csv('./data/SMOTE数据拆分/4在第一位.csv')\n",
    "#dataset = pd.read_csv('./data/SMOTE数据拆分/5在第一位.csv')\n",
    "#dataset = pd.read_csv('./data/SMOTE数据拆分/6在第一位.csv')\n",
    "#dataset = pd.read_csv('./data/SMOTE数据拆分/7在第一位.csv')\n",
    "#dataset = pd.read_csv('./data/SMOTE数据拆分/8在第一位.csv')\n",
    "#dataset = pd.read_csv('./data/SMOTE数据拆分/9在第一位.csv')"
   ]
  },
  {
   "cell_type": "code",
   "execution_count": 3,
   "id": "e3fb22dc",
   "metadata": {},
   "outputs": [
    {
     "data": {
      "text/html": [
       "<div>\n",
       "<style scoped>\n",
       "    .dataframe tbody tr th:only-of-type {\n",
       "        vertical-align: middle;\n",
       "    }\n",
       "\n",
       "    .dataframe tbody tr th {\n",
       "        vertical-align: top;\n",
       "    }\n",
       "\n",
       "    .dataframe thead th {\n",
       "        text-align: right;\n",
       "    }\n",
       "</style>\n",
       "<table border=\"1\" class=\"dataframe\">\n",
       "  <thead>\n",
       "    <tr style=\"text-align: right;\">\n",
       "      <th></th>\n",
       "      <th>count</th>\n",
       "      <th>gpsPdop</th>\n",
       "      <th>gpsNumSv</th>\n",
       "      <th>gpsWeek</th>\n",
       "      <th>itow</th>\n",
       "      <th>gpsSec</th>\n",
       "      <th>P_Sol_Status</th>\n",
       "      <th>Pos_Type</th>\n",
       "      <th>AvionicsTemp</th>\n",
       "      <th>MainPowerV</th>\n",
       "      <th>...</th>\n",
       "      <th>rcState</th>\n",
       "      <th>Failure_ad</th>\n",
       "      <th>leftRPM</th>\n",
       "      <th>AirHeight</th>\n",
       "      <th>Failure</th>\n",
       "      <th>WWest</th>\n",
       "      <th>WSouth</th>\n",
       "      <th>Event</th>\n",
       "      <th>Capacity</th>\n",
       "      <th>Jammer</th>\n",
       "    </tr>\n",
       "  </thead>\n",
       "  <tbody>\n",
       "    <tr>\n",
       "      <th>0</th>\n",
       "      <td>157.0</td>\n",
       "      <td>2.5</td>\n",
       "      <td>11.0</td>\n",
       "      <td>2176.0</td>\n",
       "      <td>438825400.0</td>\n",
       "      <td>6287.8</td>\n",
       "      <td>0.0</td>\n",
       "      <td>16.0</td>\n",
       "      <td>41.0</td>\n",
       "      <td>24.7</td>\n",
       "      <td>...</td>\n",
       "      <td>1.0</td>\n",
       "      <td>64.0</td>\n",
       "      <td>0.0</td>\n",
       "      <td>9.1</td>\n",
       "      <td>3145920.0</td>\n",
       "      <td>-3.46</td>\n",
       "      <td>2.11</td>\n",
       "      <td>0.0</td>\n",
       "      <td>0.0</td>\n",
       "      <td>1</td>\n",
       "    </tr>\n",
       "    <tr>\n",
       "      <th>1</th>\n",
       "      <td>161.0</td>\n",
       "      <td>1.0</td>\n",
       "      <td>31.0</td>\n",
       "      <td>2190.0</td>\n",
       "      <td>289780800.0</td>\n",
       "      <td>1422.4</td>\n",
       "      <td>0.0</td>\n",
       "      <td>50.0</td>\n",
       "      <td>29.0</td>\n",
       "      <td>24.7</td>\n",
       "      <td>...</td>\n",
       "      <td>1.0</td>\n",
       "      <td>64.0</td>\n",
       "      <td>0.0</td>\n",
       "      <td>181.0</td>\n",
       "      <td>3145920.0</td>\n",
       "      <td>1.50</td>\n",
       "      <td>-1.53</td>\n",
       "      <td>0.0</td>\n",
       "      <td>0.0</td>\n",
       "      <td>0</td>\n",
       "    </tr>\n",
       "    <tr>\n",
       "      <th>2</th>\n",
       "      <td>37.0</td>\n",
       "      <td>1.0</td>\n",
       "      <td>31.0</td>\n",
       "      <td>2190.0</td>\n",
       "      <td>289912800.0</td>\n",
       "      <td>1554.4</td>\n",
       "      <td>0.0</td>\n",
       "      <td>50.0</td>\n",
       "      <td>30.0</td>\n",
       "      <td>24.7</td>\n",
       "      <td>...</td>\n",
       "      <td>1.0</td>\n",
       "      <td>64.0</td>\n",
       "      <td>0.0</td>\n",
       "      <td>181.2</td>\n",
       "      <td>3145920.0</td>\n",
       "      <td>2.33</td>\n",
       "      <td>-1.54</td>\n",
       "      <td>0.0</td>\n",
       "      <td>0.0</td>\n",
       "      <td>0</td>\n",
       "    </tr>\n",
       "    <tr>\n",
       "      <th>3</th>\n",
       "      <td>170.0</td>\n",
       "      <td>2.5</td>\n",
       "      <td>11.0</td>\n",
       "      <td>2176.0</td>\n",
       "      <td>438838400.0</td>\n",
       "      <td>6300.8</td>\n",
       "      <td>0.0</td>\n",
       "      <td>16.0</td>\n",
       "      <td>41.0</td>\n",
       "      <td>24.7</td>\n",
       "      <td>...</td>\n",
       "      <td>1.0</td>\n",
       "      <td>64.0</td>\n",
       "      <td>0.0</td>\n",
       "      <td>8.5</td>\n",
       "      <td>3145920.0</td>\n",
       "      <td>-3.50</td>\n",
       "      <td>2.47</td>\n",
       "      <td>0.0</td>\n",
       "      <td>0.0</td>\n",
       "      <td>1</td>\n",
       "    </tr>\n",
       "    <tr>\n",
       "      <th>4</th>\n",
       "      <td>124.0</td>\n",
       "      <td>1.0</td>\n",
       "      <td>31.0</td>\n",
       "      <td>2190.0</td>\n",
       "      <td>289743600.0</td>\n",
       "      <td>1385.2</td>\n",
       "      <td>0.0</td>\n",
       "      <td>50.0</td>\n",
       "      <td>29.0</td>\n",
       "      <td>24.9</td>\n",
       "      <td>...</td>\n",
       "      <td>1.0</td>\n",
       "      <td>64.0</td>\n",
       "      <td>0.0</td>\n",
       "      <td>178.3</td>\n",
       "      <td>3145920.0</td>\n",
       "      <td>2.43</td>\n",
       "      <td>-1.39</td>\n",
       "      <td>0.0</td>\n",
       "      <td>0.0</td>\n",
       "      <td>0</td>\n",
       "    </tr>\n",
       "  </tbody>\n",
       "</table>\n",
       "<p>5 rows × 65 columns</p>\n",
       "</div>"
      ],
      "text/plain": [
       "   count  gpsPdop  gpsNumSv  gpsWeek         itow  gpsSec  P_Sol_Status  \\\n",
       "0  157.0      2.5      11.0   2176.0  438825400.0  6287.8           0.0   \n",
       "1  161.0      1.0      31.0   2190.0  289780800.0  1422.4           0.0   \n",
       "2   37.0      1.0      31.0   2190.0  289912800.0  1554.4           0.0   \n",
       "3  170.0      2.5      11.0   2176.0  438838400.0  6300.8           0.0   \n",
       "4  124.0      1.0      31.0   2190.0  289743600.0  1385.2           0.0   \n",
       "\n",
       "   Pos_Type  AvionicsTemp  MainPowerV  ...  rcState  Failure_ad  leftRPM  \\\n",
       "0      16.0          41.0        24.7  ...      1.0        64.0      0.0   \n",
       "1      50.0          29.0        24.7  ...      1.0        64.0      0.0   \n",
       "2      50.0          30.0        24.7  ...      1.0        64.0      0.0   \n",
       "3      16.0          41.0        24.7  ...      1.0        64.0      0.0   \n",
       "4      50.0          29.0        24.9  ...      1.0        64.0      0.0   \n",
       "\n",
       "   AirHeight    Failure  WWest  WSouth  Event  Capacity  Jammer  \n",
       "0        9.1  3145920.0  -3.46    2.11    0.0       0.0       1  \n",
       "1      181.0  3145920.0   1.50   -1.53    0.0       0.0       0  \n",
       "2      181.2  3145920.0   2.33   -1.54    0.0       0.0       0  \n",
       "3        8.5  3145920.0  -3.50    2.47    0.0       0.0       1  \n",
       "4      178.3  3145920.0   2.43   -1.39    0.0       0.0       0  \n",
       "\n",
       "[5 rows x 65 columns]"
      ]
     },
     "execution_count": 3,
     "metadata": {},
     "output_type": "execute_result"
    }
   ],
   "source": [
    "#查看数据集的前5个值\n",
    "dataset.head()"
   ]
  },
  {
   "cell_type": "code",
   "execution_count": 4,
   "id": "14a82e77",
   "metadata": {},
   "outputs": [],
   "source": [
    "## 数据清洗\n",
    "#A = dataset.loc[:, (dataset != 0).any(axis=0)]#删除数据全部为0的列\n",
    "#del A['gpsWeek']\n",
    "#del A['ServPowerV']\n",
    "##del A['APGlobalStatus']\n",
    "#del A['GPSStatus']\n",
    "#del A['mpStatus']\n",
    "##del A['Action']\n",
    "#del A['rcState']\n",
    "#del A['Failure_ad']\n",
    "#del A['Failure']\n",
    "#dataset = A\n",
    "#print(dataset)"
   ]
  },
  {
   "cell_type": "code",
   "execution_count": 5,
   "id": "2cd7694d",
   "metadata": {},
   "outputs": [],
   "source": [
    "#将数据集拆分为独立变量和因变量\n",
    "X = dataset[dataset.columns[:-1]]   #从0到倒数第一列\n",
    "y = dataset.Jammer                  #只包括data的y这一列"
   ]
  },
  {
   "cell_type": "code",
   "execution_count": 6,
   "id": "9d290d25",
   "metadata": {},
   "outputs": [],
   "source": [
    "#将数据集分割为训练集和测试集\n",
    "from sklearn.model_selection import train_test_split\n",
    "X_train, X_test, y_train, y_test = train_test_split(X, y, test_size = 0.30, random_state = 34)"
   ]
  },
  {
   "cell_type": "code",
   "execution_count": 7,
   "id": "839e8553",
   "metadata": {},
   "outputs": [],
   "source": [
    "#from sklearn.svm import SVC\n",
    "#classifier = SVC(kernel='linear')\n",
    "\n",
    "#history = classifier.fit(X_train,y_train)\n",
    "\n",
    "#score = classifier.score(X_test,y_test)\n",
    "\n",
    "\n",
    "##功能缩放，使变量在单个缩放\n",
    "##from sklearn.preprocessing import StandardScaler\n",
    "##sc = StandardScaler()\n",
    "##X_train = sc.fit_transform(X_train)\n",
    "##X_test = sc.transform(X_test)"
   ]
  },
  {
   "cell_type": "code",
   "execution_count": 8,
   "id": "d2317f1c",
   "metadata": {},
   "outputs": [
    {
     "data": {
      "text/plain": [
       "(            count  gpsPdop   gpsNumSv  gpsWeek          itow       gpsSec  \\\n",
       " 12164  175.454866      2.5  11.000000   2176.0  4.388439e+08  6306.254866   \n",
       " 222    238.000000      2.5  17.000000   2176.0  4.395900e+08   498.800000   \n",
       " 10649   19.000000      1.0  30.000000   2190.0  2.904068e+08  2048.400000   \n",
       " 4170    25.220816      2.5   7.220816   2176.0  4.386560e+08  6118.420816   \n",
       " 10762  130.248516      5.0  16.000000   2176.0  4.394060e+08   314.848516   \n",
       " ...           ...      ...        ...      ...           ...          ...   \n",
       " 12022  146.000000      1.0  31.000000   2190.0  2.897656e+08  1407.200000   \n",
       " 5993    26.000000      1.0  31.000000   2190.0  2.891336e+08   775.200000   \n",
       " 10730  210.000000      1.0  30.000000   2190.0  2.900858e+08  1727.400000   \n",
       " 5242    22.000000      3.0   7.000000   2176.0  4.389978e+08  6460.200000   \n",
       " 11681  147.621046      2.5  11.000000   2176.0  4.388158e+08  6278.221046   \n",
       " \n",
       "        P_Sol_Status  Pos_Type  AvionicsTemp  MainPowerV  ...  ZaccBias  \\\n",
       " 12164           0.0      16.0          41.0        24.7  ...      0.03   \n",
       " 222             0.0      16.0          47.0        24.7  ...      0.00   \n",
       " 10649           0.0      50.0          30.0        24.3  ...      0.00   \n",
       " 4170            0.0      16.0          39.0        24.7  ...      0.00   \n",
       " 10762          13.0      16.0          46.0        24.7  ...      0.00   \n",
       " ...             ...       ...           ...         ...  ...       ...   \n",
       " 12022           0.0      50.0          29.0        24.9  ...      0.00   \n",
       " 5993            0.0      50.0          21.0        23.4  ...      0.00   \n",
       " 10730           0.0      50.0          30.0        24.3  ...      0.00   \n",
       " 5242           13.0      16.0          43.0        24.7  ...      0.00   \n",
       " 11681           0.0      16.0          41.0        24.7  ...      0.02   \n",
       " \n",
       "        rcState  Failure_ad  leftRPM   AirHeight    Failure     WWest  \\\n",
       " 12164      1.0        64.0      0.0    8.254513  3145920.0 -3.824619   \n",
       " 222        1.0        64.0      0.0   30.000000  3145920.0  3.570000   \n",
       " 10649      1.0        64.0      0.0  187.800000  3145920.0  6.140000   \n",
       " 4170       1.0        64.0      0.0   -2.422082  3145920.0 -0.010127   \n",
       " 10762      1.0        64.0      0.0   26.900000  3145920.0  4.715148   \n",
       " ...        ...         ...      ...         ...        ...       ...   \n",
       " 12022      1.0        64.0      0.0  181.300000  3145920.0  5.720000   \n",
       " 5993       1.0        64.0      0.0   99.900000  3145920.0  2.030000   \n",
       " 10730      1.0        64.0      0.0  178.400000  3145920.0  2.560000   \n",
       " 5242       1.0        64.0      0.0   14.300000  3145920.0  0.340000   \n",
       " 11681      1.0        64.0      0.0    9.437895  3145920.0 -3.498948   \n",
       " \n",
       "          WSouth  Event  Capacity  \n",
       " 12164  2.704584    0.0       0.0  \n",
       " 222    1.180000    0.0       0.0  \n",
       " 10649 -1.410000    0.0       0.0  \n",
       " 4170   2.995331    0.0       0.0  \n",
       " 10762  3.743843    0.0       0.0  \n",
       " ...         ...    ...       ...  \n",
       " 12022 -2.420000    0.0       0.0  \n",
       " 5993  -1.580000    0.0       0.0  \n",
       " 10730 -2.910000    0.0       0.0  \n",
       " 5242   0.460000    0.0       0.0  \n",
       " 11681  1.396946    0.0       0.0  \n",
       " \n",
       " [9679 rows x 64 columns],\n",
       "             count  gpsPdop  gpsNumSv  gpsWeek          itow       gpsSec  \\\n",
       " 5536   221.000000      1.0      29.0   2190.0  1.903924e+08   338.000000   \n",
       " 6443   136.000000      1.0      31.0   2190.0  2.905238e+08  2165.400000   \n",
       " 9856   249.000000      1.0      29.0   2190.0  1.899084e+08  6407.600000   \n",
       " 9656   224.000000      2.5      17.0   2176.0  4.395352e+08   444.000000   \n",
       " 6861    17.000000      1.0      30.0   2190.0  2.901488e+08  1790.400000   \n",
       " ...           ...      ...       ...      ...           ...          ...   \n",
       " 12913  147.000000      1.0      31.0   2190.0  2.892546e+08   896.200000   \n",
       " 5244   181.000000      1.0      31.0   2190.0  2.903128e+08  1954.400000   \n",
       " 2820   192.000000      5.0      19.0   2176.0  4.395032e+08   412.000000   \n",
       " 1835     5.694811      2.5       6.0   2176.0  4.386365e+08  6098.894811   \n",
       " 10648  141.000000      1.0      31.0   2190.0  2.905288e+08  2170.400000   \n",
       " \n",
       "        P_Sol_Status  Pos_Type  AvionicsTemp  MainPowerV  ...  ZaccBias  \\\n",
       " 5536            0.0      50.0          27.0        23.1  ...       0.0   \n",
       " 6443            0.0      50.0          30.0        24.4  ...       0.0   \n",
       " 9856            0.0      50.0          28.0        24.5  ...       0.0   \n",
       " 9656            0.0      16.0          46.0        24.7  ...       0.0   \n",
       " 6861            0.0      50.0          30.0        24.4  ...       0.0   \n",
       " ...             ...       ...           ...         ...  ...       ...   \n",
       " 12913           0.0      50.0          24.0        25.2  ...       0.0   \n",
       " 5244            0.0      50.0          30.0        24.6  ...       0.0   \n",
       " 2820           13.0      16.0          46.0        24.7  ...       0.0   \n",
       " 1835            0.0      16.0          39.0        24.8  ...       0.0   \n",
       " 10648           0.0      50.0          30.0        24.2  ...       0.0   \n",
       " \n",
       "        rcState  Failure_ad  leftRPM   AirHeight    Failure     WWest  \\\n",
       " 5536       1.0        64.0      0.0  100.100000  3145920.0 -0.780000   \n",
       " 6443       1.0        64.0      0.0  177.700000  3145920.0  3.990000   \n",
       " 9856       1.0        64.0      0.0  198.800000  3145920.0 -0.150000   \n",
       " 9656       1.0        64.0      0.0   28.400000  3145920.0 -5.920000   \n",
       " 6861       1.0        64.0      0.0  185.300000  3145920.0  0.970000   \n",
       " ...        ...         ...      ...         ...        ...       ...   \n",
       " 12913      1.0        64.0      0.0  183.900000  3145920.0  8.230000   \n",
       " 5244       1.0        64.0      0.0  175.700000  3145920.0  4.790000   \n",
       " 2820       1.0        64.0      0.0   28.400000  3145920.0  3.430000   \n",
       " 1835       1.0        64.0      0.0   -2.677924  3145920.0 -1.912339   \n",
       " 10648      1.0        64.0      0.0  179.400000  3145920.0  4.380000   \n",
       " \n",
       "          WSouth  Event  Capacity  \n",
       " 5536   0.940000    0.0       0.0  \n",
       " 6443  -7.360000    0.0       0.0  \n",
       " 9856   0.760000    0.0       0.0  \n",
       " 9656   4.340000    0.0       0.0  \n",
       " 6861  -5.140000    0.0       0.0  \n",
       " ...         ...    ...       ...  \n",
       " 12913  1.230000    0.0       0.0  \n",
       " 5244  -5.010000    0.0       0.0  \n",
       " 2820   7.340000    0.0       0.0  \n",
       " 1835   5.498839    0.0       0.0  \n",
       " 10648 -7.210000    0.0       0.0  \n",
       " \n",
       " [4149 rows x 64 columns])"
      ]
     },
     "execution_count": 8,
     "metadata": {},
     "output_type": "execute_result"
    }
   ],
   "source": [
    "X_train,X_test "
   ]
  },
  {
   "cell_type": "code",
   "execution_count": 9,
   "id": "33da9eaf",
   "metadata": {},
   "outputs": [
    {
     "name": "stdout",
     "output_type": "stream",
     "text": [
      "[[ 0.81415647 -0.09689669 -0.76446413 ...  0.68142973  0.\n",
      "   0.        ]\n",
      " [ 1.6745845  -0.09689669 -0.17302073 ...  0.22885598  0.\n",
      "   0.        ]\n",
      " [-1.33817966 -0.17330128  1.10843997 ... -0.53998726  0.\n",
      "   0.        ]\n",
      " ...\n",
      " [ 1.28939091 -0.17330128  1.10843997 ... -0.98526328  0.\n",
      "   0.        ]\n",
      " [-1.29690892 -0.07142849 -1.15875973 ...  0.0151235   0.\n",
      "   0.        ]\n",
      " [ 0.43124901 -0.09689669 -0.76446413 ...  0.2932567   0.\n",
      "   0.        ]]\n",
      "[2.33678490e+01 3.18725787e+00 3.03194230e+00 2.51087245e+00\n",
      " 2.08711708e+00 1.91180891e+00 1.72409460e+00 1.55472582e+00\n",
      " 1.47879104e+00 1.30063764e+00 1.18260495e+00 1.08997130e+00\n",
      " 1.06476709e+00 1.01020145e+00 9.90861306e-01 8.75162663e-01\n",
      " 8.54478701e-01 7.89884302e-01 7.35038442e-01 6.91760564e-01\n",
      " 6.25664898e-01 5.89849803e-01 5.15159979e-01 4.70747447e-01\n",
      " 4.68835051e-01 4.06773562e-01 3.76937198e-01 3.53897849e-01\n",
      " 3.37002812e-01 3.28773425e-01 2.99186854e-01 2.82829954e-01\n",
      " 2.71790674e-01 2.35498667e-01 2.29580275e-01 1.62486428e-01\n",
      " 1.44659916e-01 9.03284495e-02 8.62687453e-02 6.79442602e-02\n",
      " 4.19267443e-02 3.09647042e-02 2.38853672e-02 2.35073090e-02\n",
      " 2.02411199e-02 1.95629393e-02 1.46835916e-02 1.33727316e-02\n",
      " 1.06742425e-02 8.28699667e-03 5.24572203e-03 4.03952635e-03\n",
      " 3.16287636e-03 2.09494455e-03 2.30336391e-04 7.00874251e-05\n",
      " 3.76000874e-31 1.36374361e-31 1.36374361e-31 1.36374361e-31\n",
      " 1.36374361e-31 1.36374361e-31 1.36374361e-31 4.94625612e-32]\n",
      "[4.02852323e-01 5.49470443e-02 5.22694663e-02 4.32864317e-02\n",
      " 3.59810594e-02 3.29588171e-02 2.97226977e-02 2.68028482e-02\n",
      " 2.54937631e-02 2.24224701e-02 2.03876340e-02 1.87906669e-02\n",
      " 1.83561566e-02 1.74154669e-02 1.70820506e-02 1.50874525e-02\n",
      " 1.47308693e-02 1.36172878e-02 1.26717672e-02 1.19256740e-02\n",
      " 1.07862113e-02 1.01687735e-02 8.88115094e-03 8.11549674e-03\n",
      " 8.08252781e-03 7.01261269e-03 6.49824576e-03 6.10105664e-03\n",
      " 5.80979301e-03 5.66792167e-03 5.15786109e-03 4.87587471e-03\n",
      " 4.68556196e-03 4.05990235e-03 3.95787165e-03 2.80120069e-03\n",
      " 2.49387879e-03 1.55722616e-03 1.48723849e-03 1.17133173e-03\n",
      " 7.22800217e-04 5.33819052e-04 4.11774128e-04 4.05256558e-04\n",
      " 3.48948770e-04 3.37257209e-04 2.53139216e-04 2.30540517e-04\n",
      " 1.84019650e-04 1.42864491e-04 9.04341390e-05 6.96398104e-05\n",
      " 5.45267169e-05 3.61160019e-05 3.97090679e-06 1.20827903e-06\n",
      " 6.48210391e-33 2.35103915e-33 2.35103915e-33 2.35103915e-33\n",
      " 2.35103915e-33 2.35103915e-33 2.35103915e-33 8.52714670e-34]\n",
      "0.9999999999999994\n"
     ]
    }
   ],
   "source": [
    "#PCA分析\n",
    "from sklearn.decomposition import PCA\n",
    "pca = PCA(n_components=64)\n",
    "\n",
    "\n",
    "#数据的标准化\n",
    "from sklearn.preprocessing import StandardScaler\n",
    "X_norm = StandardScaler().fit_transform(X_train)\n",
    "print(X_norm)\n",
    "\n",
    "X_train_pca = pca.fit_transform(X_norm)\n",
    "#计算分析后各成分的方差以及方差比例\n",
    "var = pca.explained_variance_\n",
    "var_ratio = pca.explained_variance_ratio_\n",
    "print(var)\n",
    "print(var_ratio)\n",
    "print(sum(var_ratio))"
   ]
  },
  {
   "cell_type": "code",
   "execution_count": 10,
   "id": "6e4de324",
   "metadata": {},
   "outputs": [],
   "source": [
    "##可视化方差比例\n",
    "#fig2 = plt.figure(figsize=(10,5))\n",
    "#plt.bar([1,2,3,4,5,6,7,8,9,10,11,12,13,14],var_ratio)\n",
    "##plt.bar([1,2,3,4,5,],var_ratio)\n",
    "#plt.xlabel('Components')\n",
    "#plt.ylabel('Variance ratio')\n",
    "#plt.show()"
   ]
  },
  {
   "cell_type": "code",
   "execution_count": 11,
   "id": "0e397c07",
   "metadata": {},
   "outputs": [
    {
     "name": "stdout",
     "output_type": "stream",
     "text": [
      "(9679, 25) (9679, 64)\n",
      "[0.40285232 0.05494704 0.05226947 0.04328643 0.03598106 0.03295882\n",
      " 0.0297227  0.02680285 0.02549376 0.02242247 0.02038763 0.01879067\n",
      " 0.01835616 0.01741546 0.01708204 0.01508744 0.01473086 0.01361729\n",
      " 0.01267171 0.01192563 0.01078614 0.01016851 0.00887857 0.00811441\n",
      " 0.00808147]\n",
      "<class 'numpy.ndarray'>\n",
      "0.933\n"
     ]
    },
    {
     "data": {
      "image/png": "[encoded data removed]",
      "text/plain": [
       "<Figure size 432x288 with 1 Axes>"
      ]
     },
     "metadata": {
      "needs_background": "light"
     },
     "output_type": "display_data"
    }
   ],
   "source": [
    "# 训练集数据降维到25维\n",
    "pca = PCA(n_components=25)\n",
    "X_train_pca = pca.fit_transform(X_norm)\n",
    "#var_ratio2 = pca.fit_transform(X_norm)\n",
    "print(X_train_pca.shape,X_norm.shape)\n",
    "\n",
    "# 计算方差比例\n",
    "var_ratio2 = pca.explained_variance_ratio_\n",
    "print(var_ratio2)\n",
    "print(type(var_ratio2))\n",
    "\n",
    "var = list(range(1, 26))\n",
    "\n",
    "#var_ratio2='{:.4f}'.format(var_ratio2[0])\n",
    "\n",
    "#var_ratio2=int(var_ratio2)\n",
    "\n",
    "var_ratio2 = np.around(var_ratio2,decimals=4)# 保留4位小数\n",
    "A=np.sum(var_ratio2)\n",
    "print(A)\n",
    "\n",
    "# 绘制图像\n",
    "\n",
    "#plt.bar(var,var_ratio2)\n",
    "plt.bar(var,var_ratio2,tick_label=[\"1\",\"2\",\"3\",\"4\",\"5\",\"6\",\"7\",\"8\",\"9\",\"10\",\"11\",\"12\",\"13\",\"14\",\"15\",\n",
    "                                   \"16\",\"17\",\"18\",\"19\",\"20\",\"21\",\"22\",\"23\",\"24\",\"25\"])\n",
    "\n",
    "plt.xlabel('Components')\n",
    "plt.ylabel('Variance ratio')\n",
    "\n",
    "\n",
    "#for i in range(len(var)):\n",
    "#    plt.text(x = i-0.1, y = var_ratio2[i]+1,s = var_ratio2[i] ) # s表示注释内容\n",
    "\n",
    "for var,var_ratio2 in zip(var,var_ratio2):   #柱子上的数字显示\n",
    " plt.text(var,var_ratio2,'%.4f'%var_ratio2,ha='center',va='bottom',fontsize=7);\n",
    "\n",
    "\n",
    "plt.show()"
   ]
  },
  {
   "cell_type": "code",
   "execution_count": 12,
   "id": "13012442",
   "metadata": {},
   "outputs": [
    {
     "data": {
      "image/png": "[encoded data removed]",
      "text/plain": [
       "<Figure size 432x288 with 1 Axes>"
      ]
     },
     "metadata": {
      "needs_background": "light"
     },
     "output_type": "display_data"
    }
   ],
   "source": [
    "#降维数据的可视化\n",
    "fig3 = plt.figure()\n",
    "plt.scatter(X_train_pca[:,0][y_train==0],X_train_pca[:,1][y_train==0],marker='x',label='negative')\n",
    "plt.scatter(X_train_pca[:,0][y_train==1],X_train_pca[:,1][y_train==1],marker='*',label='positive')\n",
    "plt.xlabel('PC1')\n",
    "plt.ylabel('PC2')\n",
    "plt.legend()\n",
    "plt.show()"
   ]
  },
  {
   "cell_type": "code",
   "execution_count": 13,
   "id": "4024933d",
   "metadata": {},
   "outputs": [
    {
     "data": {
      "text/plain": [
       "SVC(C=1000, decision_function_shape='ovo', gamma=0.01)"
      ]
     },
     "execution_count": 13,
     "metadata": {},
     "output_type": "execute_result"
    }
   ],
   "source": [
    "# 降维后的模型建立与训练\n",
    "\n",
    "from sklearn import svm\n",
    "\n",
    "PCA_SVM = svm.SVC(C=1000,kernel='rbf', gamma=0.01,decision_function_shape='ovo')\n",
    "\n",
    "PCA_SVM.fit(X_train_pca,y_train)"
   ]
  },
  {
   "cell_type": "code",
   "execution_count": 14,
   "id": "63e4c303",
   "metadata": {},
   "outputs": [
    {
     "name": "stdout",
     "output_type": "stream",
     "text": [
      "模型的最优参数： {'C': 100, 'gamma': 0.1, 'kernel': 'rbf'}\n",
      "最优模型分数： 0.9965906954284787\n",
      "最优模型对象： SVC(C=100, gamma=0.1, probability=True)\n"
     ]
    }
   ],
   "source": [
    "###放到最后，因为SVM 网格搜索太慢了###\n",
    "# 基于svm 实现分类  # 基于网格搜索获取最优模型\n",
    "from sklearn.model_selection import GridSearchCV\n",
    "model = svm.SVC(probability=True)\n",
    "params = [\n",
    "{'kernel':['linear'],'C':[1,10,100,1000]},\n",
    "{'kernel':['poly'],'C':[1,10],'degree':[2,3]},\n",
    "{'kernel':['rbf'],'C':[1,10,100,1000], \n",
    " 'gamma':[1,0.1, 0.01, 0.001]}]\n",
    "model = GridSearchCV(estimator=model, param_grid=params, cv=10)\t \n",
    "model.fit(X_train_pca,y_train)\n",
    "\n",
    "## 网格搜索训练后的副产品\n",
    "print(\"模型的最优参数：\",model.best_params_)\n",
    "print(\"最优模型分数：\",model.best_score_)\n",
    "print(\"最优模型对象：\",model.best_estimator_)"
   ]
  },
  {
   "cell_type": "code",
   "execution_count": 15,
   "id": "bb5c6099",
   "metadata": {},
   "outputs": [
    {
     "data": {
      "text/plain": [
       "SVC(C=100, decision_function_shape='ovo', gamma=0.1)"
      ]
     },
     "execution_count": 15,
     "metadata": {},
     "output_type": "execute_result"
    }
   ],
   "source": [
    "PCA_SVM = svm.SVC(C=100,kernel='rbf', gamma=0.1,decision_function_shape='ovo')\n",
    "PCA_SVM.fit(X_train_pca,y_train)"
   ]
  },
  {
   "cell_type": "code",
   "execution_count": 16,
   "id": "5310e4f2",
   "metadata": {},
   "outputs": [
    {
     "name": "stdout",
     "output_type": "stream",
     "text": [
      "[[ 3.81409779 -0.65702585 -0.76556467 ... -0.27252214 -1.39113655\n",
      "  -0.50663632]\n",
      " [ 5.36095085  1.87807599  0.74462366 ...  0.52225293  1.09668526\n",
      "   0.20021719]\n",
      " [ 5.12458606  1.31724059 -0.32712696 ...  1.28325148 -0.4264876\n",
      "   0.22736491]\n",
      " ...\n",
      " [-4.60335854 -2.88271198  2.2756364  ...  0.06270723 -1.29975941\n",
      "  -0.42001356]\n",
      " [-4.24007725  1.1340365  -0.75062635 ...  0.29894664 -0.2682619\n",
      "  -0.05487681]\n",
      " [ 5.32647779  1.82341381  1.96751527 ... -0.62636481  0.77893329\n",
      "   0.74906781]]\n",
      "(4149, 25)\n"
     ]
    }
   ],
   "source": [
    "#测试集数据降维到25维\n",
    "pca = PCA(n_components=25)\n",
    "\n",
    "X_norm = StandardScaler().fit_transform(X_test)\n",
    "X_test_pca = pca.fit_transform(X_norm)\n",
    "\n",
    "print(X_test_pca)\n",
    "print(X_test_pca.shape)"
   ]
  },
  {
   "cell_type": "code",
   "execution_count": 17,
   "id": "3f028131",
   "metadata": {},
   "outputs": [
    {
     "name": "stdout",
     "output_type": "stream",
     "text": [
      "[0 0 0 ... 1 1 0]\n",
      "(4149,)\n",
      "PCA测试集准确率: 0.8585\n",
      "\n",
      "\n",
      "PCA测试集精确率: 0.8867\n",
      "\n",
      "\n",
      "PCA测试集召回率: 0.8190\n",
      "\n",
      "\n",
      "PCA测试集F1值: 0.8515\n"
     ]
    }
   ],
   "source": [
    "#模型预测\n",
    "from sklearn.metrics import accuracy_score\n",
    "from sklearn.metrics import precision_score\n",
    "from sklearn.metrics import recall_score\n",
    "from sklearn.metrics import f1_score\n",
    "\n",
    "y_predict_pca = PCA_SVM.predict(X_test_pca)\n",
    "print(y_predict_pca)\n",
    "print(y_predict_pca.shape)\n",
    "accuracy_pca = accuracy_score(y_test,y_predict_pca)\n",
    "print(\"PCA测试集准确率: {0:.4f}\".format(accuracy_pca))\n",
    "\n",
    "precision_pca =precision_score(y_test,y_predict_pca)\n",
    "print(\"\\n\\nPCA测试集精确率: {0:.4f}\".format(precision_pca))\n",
    "\n",
    "recall_pca =recall_score(y_test,y_predict_pca)\n",
    "print(\"\\n\\nPCA测试集召回率: {0:.4f}\".format(recall_pca))\n",
    "\n",
    "f1_pca =f1_score(y_test,y_predict_pca)\n",
    "print(\"\\n\\nPCA测试集F1值: {0:.4f}\".format(f1_pca))"
   ]
  },
  {
   "cell_type": "code",
   "execution_count": 18,
   "id": "ec3d56eb",
   "metadata": {},
   "outputs": [
    {
     "name": "stdout",
     "output_type": "stream",
     "text": [
      "[[1879  215]\n",
      " [ 372 1683]]\n"
     ]
    }
   ],
   "source": [
    "#制作PCA混淆矩阵\n",
    "from sklearn.metrics import confusion_matrix\n",
    "cm = confusion_matrix(y_test, y_predict_pca)\n",
    "print(cm)"
   ]
  },
  {
   "cell_type": "code",
   "execution_count": 19,
   "id": "19d7a513",
   "metadata": {},
   "outputs": [
    {
     "name": "stdout",
     "output_type": "stream",
     "text": [
      "正确预测值的数量:  3562\n",
      "错误预测值的数量:  587\n"
     ]
    }
   ],
   "source": [
    "#从混淆矩阵中寻找准确性。\n",
    "a = cm.shape\n",
    "corrPred = 0\n",
    "falsePred = 0\n",
    "\n",
    "for row in range(a[0]):\n",
    "    for c in range(a[1]):\n",
    "        if row == c:\n",
    "            corrPred +=cm[row,c]\n",
    "        else:\n",
    "            falsePred += cm[row,c]\n",
    "print('正确预测值的数量: ', corrPred)\n",
    "print('错误预测值的数量: ', falsePred)\n",
    "#print ('\\n\\nKNN分类器的准确率为: ', corrPred/(cm.sum()))"
   ]
  },
  {
   "cell_type": "code",
   "execution_count": 21,
   "id": "cd59e47c",
   "metadata": {},
   "outputs": [
    {
     "name": "stdout",
     "output_type": "stream",
     "text": [
      "              precision    recall  f1-score   support\n",
      "\n",
      "           0     0.8347    0.8973    0.8649      2094\n",
      "           1     0.8867    0.8190    0.8515      2055\n",
      "\n",
      "    accuracy                         0.8585      4149\n",
      "   macro avg     0.8607    0.8582    0.8582      4149\n",
      "weighted avg     0.8605    0.8585    0.8583      4149\n",
      "\n"
     ]
    }
   ],
   "source": [
    "from sklearn.metrics import accuracy_score,f1_score,confusion_matrix,classification_report\n",
    "\n",
    "print(classification_report(y_test, y_predict_pca,digits=4))"
   ]
  },
  {
   "cell_type": "code",
   "execution_count": 23,
   "id": "a1bac9cb",
   "metadata": {},
   "outputs": [
    {
     "data": {
      "image/png": "[encoded data removed]",
      "text/plain": [
       "<Figure size 432x288 with 2 Axes>"
      ]
     },
     "metadata": {
      "needs_background": "light"
     },
     "output_type": "display_data"
    }
   ],
   "source": [
    "classes = list(set(y))\n",
    "classes.sort()\n",
    "confusion = confusion_matrix(y_predict_pca, y_test)\n",
    "plt.imshow(confusion, cmap=plt.cm.Blues)\n",
    "indices = range(len(confusion))\n",
    "plt.xticks(indices, classes, fontsize=20)\n",
    "plt.yticks(indices, classes, fontsize=20)\n",
    "plt.colorbar().ax.tick_params(labelsize=20)\n",
    "plt.xlabel('Predicted label', fontsize=20)\n",
    "plt.ylabel('True label', fontsize=20)\n",
    "for first_index in range(len(confusion)):\n",
    "    for second_index in range(len(confusion[first_index])):\n",
    "        plt.text(first_index, second_index, confusion[first_index][second_index],\n",
    "                 va='center', ha='center',fontsize=20, )\n",
    "\n",
    "plt.show()"
   ]
  },
  {
   "cell_type": "code",
   "execution_count": 24,
   "id": "410993c6",
   "metadata": {},
   "outputs": [
    {
     "name": "stdout",
     "output_type": "stream",
     "text": [
      "10折交叉验证准确率： [0.9976 0.9904 0.9952 0.9928 0.9952 0.9976 0.9952 0.9976 0.9952 0.9976]\n",
      "\n",
      "\n",
      "10折交叉验证平均准确率： 0.9954\n"
     ]
    }
   ],
   "source": [
    "# K折交叉验证模块 \n",
    "from sklearn.model_selection import cross_val_score \n",
    "#使用K折交叉验证模块  \n",
    "#scores = cross_val_score(nvclassifier, X_test, y_test, cv=10, scoring='accuracy')  \n",
    "scores = cross_val_score(PCA_SVM, X_test_pca, y_test, cv=10,scoring='accuracy')  \n",
    "\n",
    "scores = np.around(scores,decimals=4)\n",
    "\n",
    "#将10次的预测准确率打印出  \n",
    "print('10折交叉验证准确率：',scores)  \n",
    "# [0.92 1.   0.83 0.88 0.91 0.96 1.   1.   0.78 0.74]\n",
    "#将10次的预测准确平均率打印出0.901630434782608  \n",
    "\n",
    "scoresmean = np.around(scores.mean(),decimals=4)\n",
    "\n",
    "print('\\n\\n10折交叉验证平均准确率：',scoresmean)"
   ]
  },
  {
   "cell_type": "code",
   "execution_count": 25,
   "id": "7f0b0c32",
   "metadata": {},
   "outputs": [
    {
     "name": "stdout",
     "output_type": "stream",
     "text": [
      "10折交叉验证精确率： [1.     1.     0.9951 0.9951 1.     0.9952 0.9904 1.     0.9904 1.    ]\n",
      "\n",
      "\n",
      "10折交叉验证平均精确率： 0.9966\n"
     ]
    }
   ],
   "source": [
    "precision = cross_val_score(PCA_SVM, X_test_pca, y_test, cv=10,scoring='precision') \n",
    "\n",
    "precision = np.around(precision,decimals=4)\n",
    "\n",
    "print('10折交叉验证精确率：',precision)\n",
    "\n",
    "precisionmean = np.around(precision.mean(),decimals=4)\n",
    "\n",
    "print('\\n\\n10折交叉验证平均精确率：',precisionmean)"
   ]
  },
  {
   "cell_type": "code",
   "execution_count": 26,
   "id": "0b15fffa",
   "metadata": {},
   "outputs": [
    {
     "name": "stdout",
     "output_type": "stream",
     "text": [
      "10折交叉验证精确率： [0.9951 0.9805 0.9951 0.9902 0.9903 1.     1.     0.9951 1.     0.9951]\n",
      "\n",
      "\n",
      "10折交叉验证平均召回率： 0.9941\n"
     ]
    }
   ],
   "source": [
    "recall = cross_val_score(PCA_SVM, X_test_pca, y_test, cv=10,scoring='recall') \n",
    "\n",
    "recall = np.around(recall,decimals=4)\n",
    "\n",
    "print('10折交叉验证精确率：',recall)\n",
    "\n",
    "recallmean = np.around(recall.mean(),decimals=4)\n",
    "\n",
    "print('\\n\\n10折交叉验证平均召回率：',recallmean)"
   ]
  },
  {
   "cell_type": "code",
   "execution_count": 27,
   "id": "b38e2620",
   "metadata": {},
   "outputs": [
    {
     "name": "stdout",
     "output_type": "stream",
     "text": [
      "10折交叉验证f1值： [0.9976 0.9901 0.9951 0.9927 0.9951 0.9976 0.9952 0.9976 0.9952 0.9976]\n",
      "\n",
      "\n",
      "10折交叉验证平均f1值： 0.9954\n"
     ]
    }
   ],
   "source": [
    "f1 = cross_val_score(PCA_SVM, X_test_pca, y_test, cv=10,scoring='f1') \n",
    "\n",
    "f1 = np.around(f1,decimals=4)\n",
    "\n",
    "print('10折交叉验证f1值：',f1)\n",
    "\n",
    "f1mean = np.around(f1.mean(),decimals=4)\n",
    "\n",
    "print('\\n\\n10折交叉验证平均f1值：',f1mean)"
   ]
  },
  {
   "cell_type": "code",
   "execution_count": 28,
   "id": "46bc3c31",
   "metadata": {},
   "outputs": [
    {
     "name": "stdout",
     "output_type": "stream",
     "text": [
      "10折交叉验证roc_auc值： [0.9985 0.9984 0.9988 1.     0.9994 0.9999 0.9999 1.     0.9986 1.    ]\n",
      "\n",
      "\n",
      "10折交叉验证平均ROC_AUC值： 0.9994\n"
     ]
    }
   ],
   "source": [
    "roc_auc = cross_val_score(PCA_SVM,  X_test_pca, y_test, cv=10,scoring='roc_auc') \n",
    "\n",
    "roc_auc = np.around(roc_auc,decimals=4)\n",
    "\n",
    "print('10折交叉验证roc_auc值：',roc_auc)\n",
    "\n",
    "roc_auc = np.around(roc_auc.mean(),decimals=4)\n",
    "\n",
    "print('\\n\\n10折交叉验证平均ROC_AUC值：',roc_auc.mean())"
   ]
  },
  {
   "cell_type": "code",
   "execution_count": 29,
   "id": "eac8d95f",
   "metadata": {},
   "outputs": [
    {
     "name": "stdout",
     "output_type": "stream",
     "text": [
      "[0 1]\n"
     ]
    },
    {
     "data": {
      "image/png": "[encoded data removed]",
      "text/plain": [
       "<Figure size 432x288 with 1 Axes>"
      ]
     },
     "metadata": {
      "needs_background": "light"
     },
     "output_type": "display_data"
    }
   ],
   "source": [
    "from sklearn.metrics import precision_recall_curve\n",
    "precision, recall, t =precision_recall_curve(y_test, y_predict_pca) #y_score是预测的概率值，y_test是真实值标签值\n",
    "print(t) #t是阈值\n",
    "plt.xlabel('Recall')\n",
    "plt.ylabel('Precision')\n",
    "plt.ylim([0.0, 1.0])\n",
    "plt.xlim([0.0, 1.0])\n",
    "plt.plot(recall, precision)\n",
    "plt.title(\"Precision-Recall\")\n",
    "plt.show()"
   ]
  },
  {
   "cell_type": "code",
   "execution_count": null,
   "id": "3df532e8",
   "metadata": {},
   "outputs": [],
   "source": []
  }
 ],
 "metadata": {
  "kernelspec": {
   "display_name": "Python 3",
   "language": "python",
   "name": "python3"
  },
  "language_info": {
   "codemirror_mode": {
    "name": "ipython",
    "version": 3
   },
   "file_extension": ".py",
   "mimetype": "text/x-python",
   "name": "python",
   "nbconvert_exporter": "python",
   "pygments_lexer": "ipython3",
   "version": "3.6.13"
  }
 },
 "nbformat": 4,
 "nbformat_minor": 5
}
