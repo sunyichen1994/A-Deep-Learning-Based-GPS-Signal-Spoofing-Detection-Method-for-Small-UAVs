{
 "cells": [
  {
   "cell_type": "code",
   "execution_count": 4,
   "id": "17539341",
   "metadata": {},
   "outputs": [],
   "source": [
    "# 利用随机森林进行多变量时序预测欺骗干扰\n",
    "\n",
    "# 导入库\n",
    "from sklearn.ensemble import RandomForestClassifier\n",
    "from sklearn.model_selection import GridSearchCV\n",
    "from sklearn.model_selection import cross_val_score\n",
    "import matplotlib.pyplot as plt\n",
    "import pandas as pd\n",
    "import numpy as np"
   ]
  },
  {
   "cell_type": "code",
   "execution_count": 6,
   "id": "df66a231",
   "metadata": {},
   "outputs": [
    {
     "name": "stdout",
     "output_type": "stream",
     "text": [
      "              count       gpsPdop      gpsNumSv       gpsWeek          itow  \\\n",
      "count  13828.000000  13828.000000  13828.000000  13828.000000  1.382800e+04   \n",
      "mean     116.196722      4.452366     18.793002   2181.948076  3.646376e+08   \n",
      "std       72.814751     19.907183     10.137855      6.920760  9.116327e+07   \n",
      "min        0.000000      1.000000      0.000000   2176.000000  1.888924e+08   \n",
      "25%       49.000000      1.000000     10.000000   2176.000000  2.900716e+08   \n",
      "50%      115.000000      2.500000     16.000000   2176.000000  4.385198e+08   \n",
      "75%      181.000000      2.500000     30.000000   2190.000000  4.389778e+08   \n",
      "max      255.000000    200.000000     32.000000   2190.000000  4.397520e+08   \n",
      "\n",
      "             gpsSec  P_Sol_Status      Pos_Type  AvionicsTemp    MainPowerV  \\\n",
      "count  13828.000000  13828.000000  13828.000000  13828.000000  13828.000000   \n",
      "mean    3544.104525      2.156499     30.114692     36.704917     24.583977   \n",
      "std     2520.235719      4.748022     16.554109      7.101426      0.549781   \n",
      "min        0.000000      0.000000     16.000000     20.000000      0.300000   \n",
      "25%      978.200000      0.000000     16.000000     30.000000     24.600000   \n",
      "50%     2707.100000      0.000000     16.000000     38.000000     24.700000   \n",
      "75%     6121.750000      0.000000     50.000000     43.000000     24.800000   \n",
      "max     6552.600000     13.000000     50.000000     48.000000     25.400000   \n",
      "\n",
      "       ...  rcState  Failure_ad  leftRPM     AirHeight       Failure  \\\n",
      "count  ...  13828.0     13828.0  13828.0  13828.000000  1.382800e+04   \n",
      "mean   ...      1.0        64.0      0.0     83.079227  8.037859e+06   \n",
      "std    ...      0.0         0.0      0.0     85.313009  5.101565e+07   \n",
      "min    ...      1.0        64.0      0.0    -22.200000  3.145920e+06   \n",
      "25%    ...      1.0        64.0      0.0      9.300000  3.145920e+06   \n",
      "50%    ...      1.0        64.0      0.0     30.751469  3.145920e+06   \n",
      "75%    ...      1.0        64.0      0.0    180.200000  3.145920e+06   \n",
      "max    ...      1.0        64.0      0.0    210.800000  5.400168e+08   \n",
      "\n",
      "              WWest        WSouth    Event  Capacity        Jammer  \n",
      "count  13828.000000  13828.000000  13828.0   13828.0  13828.000000  \n",
      "mean       0.849273      0.411852      0.0       0.0      0.500000  \n",
      "std        3.086522      3.364082      0.0       0.0      0.500018  \n",
      "min       -7.470000     -9.080000      0.0       0.0      0.000000  \n",
      "25%       -1.134904     -1.910000      0.0       0.0      0.000000  \n",
      "50%        0.350000      0.360000      0.0       0.0      0.500000  \n",
      "75%        3.404866      2.483067      0.0       0.0      1.000000  \n",
      "max        9.190000     10.730000      0.0       0.0      1.000000  \n",
      "\n",
      "[8 rows x 65 columns]\n"
     ]
    }
   ],
   "source": [
    "# 导入数据集\n",
    "dataset = pd.read_csv('./data/SMOTE数据拆分/0在第一位.csv')\n",
    "#dataset = pd.read_csv('./data/SMOTE数据拆分/1在第一位.csv')\n",
    "#dataset = pd.read_csv('./data/SMOTE数据拆分/2在第一位.csv')\n",
    "#dataset = pd.read_csv('./data/SMOTE数据拆分/3在第一位.csv')\n",
    "#dataset = pd.read_csv('./data/SMOTE数据拆分/4在第一位.csv')\n",
    "#dataset = pd.read_csv('./data/SMOTE数据拆分/5在第一位.csv')\n",
    "#dataset = pd.read_csv('./data/SMOTE数据拆分/6在第一位.csv')\n",
    "#dataset = pd.read_csv('./data/SMOTE数据拆分/7在第一位.csv')\n",
    "#dataset = pd.read_csv('./data/SMOTE数据拆分/8在第一位.csv')\n",
    "#dataset = pd.read_csv('./data/SMOTE数据拆分/9在第一位.csv')\n",
    " \n",
    "print(dataset.describe())#查看数据概述"
   ]
  },
  {
   "cell_type": "code",
   "execution_count": 8,
   "id": "79704e4e",
   "metadata": {},
   "outputs": [],
   "source": [
    "#拆分数据集\n",
    "\n",
    "#将数据集拆分为独立变量和因变量\n",
    "from sklearn.model_selection import train_test_split\n",
    "X = dataset[dataset.columns[:-1]]   #从0到倒数第一列\n",
    "y = dataset.Jammer                  #只包括data的y这一列\n",
    "\n",
    "#将数据集分割为训练集和测试集\n",
    "X_train, X_test, y_train, y_test = train_test_split(X, y, test_size=0.3, random_state=90) #测试集占训练集30%"
   ]
  },
  {
   "cell_type": "code",
   "execution_count": 9,
   "id": "3c19921d",
   "metadata": {},
   "outputs": [
    {
     "name": "stdout",
     "output_type": "stream",
     "text": [
      "[[-0.46190804 -0.17049625  1.29386172 ... -1.15622786  0.\n",
      "   0.        ]\n",
      " [ 1.26061141 -0.17049625  1.19518748 ... -1.41246503  0.\n",
      "   0.        ]\n",
      " [ 0.91884168 -0.17049625  1.19518748 ... -1.48695258  0.\n",
      "   0.        ]\n",
      " ...\n",
      " [-0.21583383 -0.17049625  1.19518748 ... -0.86423667  0.\n",
      "   0.        ]\n",
      " [ 0.46770563 -0.17049625  1.19518748 ... -2.42549569  0.\n",
      "   0.        ]\n",
      " [ 0.33099774 -0.09289388 -0.77829723 ... -0.03891463  0.\n",
      "   0.        ]]\n",
      "[2.33636189e+01 3.16481823e+00 3.02778473e+00 2.43763011e+00\n",
      " 2.10404435e+00 1.91278342e+00 1.71511475e+00 1.55967660e+00\n",
      " 1.45982434e+00 1.34263411e+00 1.17987743e+00 1.09983748e+00\n",
      " 1.07419490e+00 1.00731549e+00 9.95053045e-01 8.73105960e-01\n",
      " 8.52617386e-01 7.99522995e-01 7.24150956e-01 6.97719900e-01\n",
      " 6.47256832e-01 5.97848648e-01 5.20372082e-01 4.86638282e-01\n",
      " 4.55091336e-01 4.23703935e-01 3.75908842e-01 3.57009876e-01\n",
      " 3.34784077e-01 3.27172481e-01 3.00872119e-01 2.79316153e-01\n",
      " 2.61974755e-01 2.40663804e-01 2.27165480e-01 1.63959435e-01\n",
      " 1.47871109e-01 9.18449865e-02 8.56516003e-02 6.87065051e-02\n",
      " 4.35018874e-02 3.19167303e-02 2.40830430e-02 2.30060308e-02\n",
      " 2.01269960e-02 1.87396525e-02 1.34548746e-02 1.31069046e-02\n",
      " 1.03733823e-02 7.91921426e-03 5.17071936e-03 3.97520526e-03\n",
      " 3.09654991e-03 2.10287051e-03 2.11049157e-04 7.04343876e-05\n",
      " 1.98146144e-31 1.35989185e-31 1.35989185e-31 1.35989185e-31\n",
      " 1.35989185e-31 1.35989185e-31 1.35989185e-31 1.35989185e-31]\n",
      "[4.02779398e-01 5.45601939e-02 5.21977916e-02 4.20237631e-02\n",
      " 3.62728787e-02 3.29756173e-02 2.95678888e-02 2.68881976e-02\n",
      " 2.51667847e-02 2.31464723e-02 2.03406126e-02 1.89607559e-02\n",
      " 1.85186883e-02 1.73657142e-02 1.71543145e-02 1.50519958e-02\n",
      " 1.46987810e-02 1.37834550e-02 1.24840714e-02 1.20284106e-02\n",
      " 1.11584476e-02 1.03066704e-02 8.97100551e-03 8.38944835e-03\n",
      " 7.84559168e-03 7.30448551e-03 6.48051731e-03 6.15470675e-03\n",
      " 5.77154289e-03 5.64032204e-03 5.18691438e-03 4.81529819e-03\n",
      " 4.51633945e-03 4.14894723e-03 3.91624155e-03 2.82659475e-03\n",
      " 2.54923847e-03 1.58337064e-03 1.47659916e-03 1.18447253e-03\n",
      " 7.49955051e-04 5.50231599e-04 4.15181980e-04 3.96614722e-04\n",
      " 3.46981320e-04 3.23064076e-04 2.31956629e-04 2.25957765e-04\n",
      " 1.78832941e-04 1.36524070e-04 8.91411231e-05 6.85309406e-05\n",
      " 5.33832757e-05 3.62526422e-05 3.63840263e-06 1.21426053e-06\n",
      " 3.41595986e-33 2.34439889e-33 2.34439889e-33 2.34439889e-33\n",
      " 2.34439889e-33 2.34439889e-33 2.34439889e-33 2.34439889e-33]\n",
      "0.9999999999999999\n"
     ]
    }
   ],
   "source": [
    "#PCA分析\n",
    "from sklearn.decomposition import PCA\n",
    "pca = PCA(n_components=64)#改写为自变量的维度值\n",
    "\n",
    "\n",
    "#数据的标准化\n",
    "from sklearn.preprocessing import StandardScaler\n",
    "X_norm = StandardScaler().fit_transform(X_train)\n",
    "print(X_norm)\n",
    "\n",
    "X_train_pca = pca.fit_transform(X_norm)\n",
    "#计算分析后各成分的方差以及方差比例\n",
    "var = pca.explained_variance_\n",
    "var_ratio = pca.explained_variance_ratio_\n",
    "print(var)\n",
    "print(var_ratio)\n",
    "print(sum(var_ratio))"
   ]
  },
  {
   "cell_type": "code",
   "execution_count": 5,
   "id": "3e61dc38",
   "metadata": {},
   "outputs": [],
   "source": [
    "##可视化方差比例\n",
    "#fig2 = plt.figure(figsize=(10,5))\n",
    "#plt.bar([1,2,3,4,5,6,7,8,9,10,11,12,13,14],var_ratio)\n",
    "##plt.bar([1,2,3,4,5],var_ratio)\n",
    "#plt.xlabel('Components')\n",
    "#plt.ylabel('Variance ratio')\n",
    "#plt.show()"
   ]
  },
  {
   "cell_type": "code",
   "execution_count": 10,
   "id": "59565c4b",
   "metadata": {},
   "outputs": [
    {
     "name": "stdout",
     "output_type": "stream",
     "text": [
      "(9679, 25) (9679, 64)\n",
      "[0.4027794  0.05456019 0.05219779 0.04202376 0.03627288 0.03297562\n",
      " 0.02956789 0.0268882  0.02516678 0.02314647 0.02034061 0.01896075\n",
      " 0.01851869 0.01736567 0.01715431 0.01505187 0.01469876 0.01378335\n",
      " 0.01248386 0.01202839 0.01115824 0.01030667 0.00896055 0.00838942\n",
      " 0.00783243]\n",
      "<class 'numpy.ndarray'>\n",
      "0.9329000000000001\n"
     ]
    },
    {
     "data": {
      "image/png": "[encoded data removed]",
      "text/plain": [
       "<Figure size 432x288 with 1 Axes>"
      ]
     },
     "metadata": {
      "needs_background": "light"
     },
     "output_type": "display_data"
    }
   ],
   "source": [
    "# 训练集数据降维到25维\n",
    "pca = PCA(n_components=25)\n",
    "X_train_pca = pca.fit_transform(X_norm)\n",
    "#var_ratio2 = pca.fit_transform(X_norm)\n",
    "print(X_train_pca.shape,X_norm.shape)\n",
    "\n",
    "# 计算方差比例\n",
    "var_ratio2 = pca.explained_variance_ratio_\n",
    "print(var_ratio2)\n",
    "print(type(var_ratio2))\n",
    "\n",
    "var = list(range(1, 26))\n",
    "\n",
    "#var_ratio2='{:.4f}'.format(var_ratio2[0])\n",
    "\n",
    "#var_ratio2=int(var_ratio2)\n",
    "\n",
    "var_ratio2 = np.around(var_ratio2,decimals=4)# 保留4位小数\n",
    "A=np.sum(var_ratio2)\n",
    "print(A)\n",
    "\n",
    "# 绘制图像\n",
    "\n",
    "#plt.bar(var,var_ratio2)\n",
    "plt.bar(var,var_ratio2,tick_label=[\"1\",\"2\",\"3\",\"4\",\"5\",\"6\",\"7\",\"8\",\"9\",\"10\",\"11\",\"12\",\"13\",\"14\",\"15\",\n",
    "                                   \"16\",\"17\",\"18\",\"19\",\"20\",\"21\",\"22\",\"23\",\"24\",\"25\"])\n",
    "\n",
    "plt.xlabel('Components')\n",
    "plt.ylabel('Variance ratio')\n",
    "\n",
    "\n",
    "#for i in range(len(var)):\n",
    "#    plt.text(x = i-0.1, y = var_ratio2[i]+1,s = var_ratio2[i] ) # s表示注释内容\n",
    "\n",
    "for var,var_ratio2 in zip(var,var_ratio2):   #柱子上的数字显示\n",
    " plt.text(var,var_ratio2,'%.4f'%var_ratio2,ha='center',va='bottom',fontsize=7);\n",
    "\n",
    "\n",
    "plt.show()"
   ]
  },
  {
   "cell_type": "code",
   "execution_count": 11,
   "id": "ee0251c4",
   "metadata": {},
   "outputs": [
    {
     "data": {
      "image/png": "[encoded data removed]",
      "text/plain": [
       "<Figure size 432x288 with 1 Axes>"
      ]
     },
     "metadata": {
      "needs_background": "light"
     },
     "output_type": "display_data"
    }
   ],
   "source": [
    "#降维数据的可视化\n",
    "fig3 = plt.figure()\n",
    "plt.scatter(X_train_pca[:,0][y_train==0],X_train_pca[:,1][y_train==0],marker='x',label='negative')\n",
    "plt.scatter(X_train_pca[:,0][y_train==1],X_train_pca[:,1][y_train==1],marker='*',label='positive')\n",
    "plt.xlabel('PC1')\n",
    "plt.ylabel('PC2')\n",
    "plt.legend()\n",
    "plt.show()"
   ]
  },
  {
   "cell_type": "code",
   "execution_count": 12,
   "id": "0cde5e1f",
   "metadata": {
    "scrolled": true
   },
   "outputs": [
    {
     "name": "stdout",
     "output_type": "stream",
     "text": [
      "最大得分为：0.9960738460092131\n",
      "子树数量为：151\n"
     ]
    },
    {
     "data": {
      "image/png": "[encoded data removed]",
      "text/plain": [
       "<Figure size 1440x360 with 1 Axes>"
      ]
     },
     "metadata": {
      "needs_background": "light"
     },
     "output_type": "display_data"
    }
   ],
   "source": [
    "#确定随机深林数目、建模并调参\n",
    "#n_estimators是影响程度最大的参数，首先对其进行调整：\n",
    "scorel = []\n",
    "for i in range(0,200,10):      #从[0,200)只取能被10整除的数\n",
    "\t#第一次的学习曲线，可以先用来帮助我们划定范围，我们取每十个数作为一个阶段，来观察n_estimators的变化如何引起模型整体准确率的变化\n",
    "    rfc = RandomForestClassifier(n_estimators=i+1,   #森林里（决策）树的数目。   #criterion: ”gini” or “entropy”(default=”gini”)是计算属性的gini(基尼不纯度)还是entropy(信息增益)，来选择最合适的节点。\n",
    "                                    n_jobs=-1,\t\t\t#用于拟合和预测的并行运行的工作（作业）数量。因为可以并行从而提高性能。1=不并行；n：n个并行；-1：CPU有多少core，就启动多少job\n",
    "                                    random_state=90)\n",
    "    score = cross_val_score(rfc,X_train_pca,y_train,cv=10).mean()    #过传入的模型，训练十次，最后将十次结果求平均值。将每个数据集都算一次\n",
    "     #交叉验证用于评估模型的预测性能，尤其是训练好的模型在新数据上的表现，可以在一定程度上减小过拟合。\n",
    "    scorel.append(score)\n",
    "print('最大得分为：{}'.format(max(scorel)))\n",
    "a = (scorel.index(max(scorel))*10)+1\n",
    "print('子树数量为：{}'.format(a))\n",
    "plt.figure(figsize=[20,5])\n",
    "plt.plot(range(1,201,10),scorel,color=\"blue\", linewidth=1.5, marker = 'o')\n",
    "plt.xlabel(\"N_estimators\")\n",
    "plt.ylabel(\"Score\")\n",
    "plt.show()"
   ]
  },
  {
   "cell_type": "code",
   "execution_count": 13,
   "id": "ac2b34ec",
   "metadata": {},
   "outputs": [
    {
     "name": "stdout",
     "output_type": "stream",
     "text": [
      "最大得分为：0.9960738460092131\n",
      "子树数量为：146\n"
     ]
    },
    {
     "data": {
      "image/png": "[encoded data removed]",
      "text/plain": [
       "<Figure size 1440x360 with 1 Axes>"
      ]
     },
     "metadata": {
      "needs_background": "light"
     },
     "output_type": "display_data"
    }
   ],
   "source": [
    "#调参第二步：细化学习曲线    放大部分内容\n",
    "scorel = []\n",
    "for i in range(145,154):\n",
    "    rfc = RandomForestClassifier(n_estimators=i,\n",
    "                                n_jobs=-1,\n",
    "                                random_state=90)\n",
    "    score = cross_val_score(rfc,X_train_pca,y_train,cv=10).mean()\n",
    "    scorel.append(score)\n",
    "print('最大得分为：{}'.format(max(scorel)))\n",
    "a = ([*range(145,154)][scorel.index(max(scorel))])\n",
    "print('子树数量为：{}'.format(a))\n",
    "plt.figure(figsize=[20,5])\n",
    "plt.plot(range(145,154),scorel,color=\"blue\", linewidth=1.5, marker = 'o')\n",
    "plt.xlabel(\"N_estimators\")\n",
    "plt.ylabel(\"Score\")\n",
    "plt.show()"
   ]
  },
  {
   "cell_type": "code",
   "execution_count": 14,
   "id": "cacad44d",
   "metadata": {},
   "outputs": [
    {
     "name": "stdout",
     "output_type": "stream",
     "text": [
      " 11  {'max_depth': array([ 1,  2,  3,  4,  5,  6,  7,  8,  9, 10, 11, 12, 13, 14, 15, 16, 17,\n",
      "       18, 19])}\n",
      "{'max_depth': 16} : 0.9960738460092131\n"
     ]
    }
   ],
   "source": [
    "#网格搜索法确定其他参数\n",
    "# 调整max_depth\n",
    "param_grid = {'max_depth':np.arange(1, 20, 1)}\n",
    "print(\" 11 \", param_grid)\n",
    " \n",
    "rfc = RandomForestClassifier(n_estimators=146\n",
    "                            ,random_state=90)\n",
    "GS = GridSearchCV(rfc,param_grid,cv=10)\n",
    "GS.fit(X_train_pca,y_train)\n",
    "print(GS.best_params_,\":\",GS.best_score_)"
   ]
  },
  {
   "cell_type": "code",
   "execution_count": 15,
   "id": "a07c896d",
   "metadata": {},
   "outputs": [
    {
     "data": {
      "text/plain": [
       "RandomForestClassifier(max_depth=16, n_estimators=146, random_state=90)"
      ]
     },
     "execution_count": 15,
     "metadata": {},
     "output_type": "execute_result"
    }
   ],
   "source": [
    "#降维后的模型建立与训练\n",
    "#from sklearn.linear_model import LogisticRegression\n",
    "PCA_RF = RandomForestClassifier(n_estimators=146, max_depth=16, random_state=90)\n",
    "PCA_RF.fit(X_train_pca,y_train)"
   ]
  },
  {
   "cell_type": "code",
   "execution_count": 16,
   "id": "d5e21439",
   "metadata": {},
   "outputs": [
    {
     "name": "stdout",
     "output_type": "stream",
     "text": [
      "[[-3.90562214 -0.8039289  -2.655876   ... -0.9329484  -0.10325898\n",
      "   0.11009451]\n",
      " [-3.68892592  1.09371959 -0.82596093 ...  0.4411619   0.24306898\n",
      "   0.14550452]\n",
      " [ 3.39936139  1.4906546   2.04084638 ... -1.35792787  0.56202029\n",
      "   0.28591025]\n",
      " ...\n",
      " [-3.7658833   1.13333572 -1.14842372 ...  0.35898335  0.25701053\n",
      "   0.24511819]\n",
      " [-3.83974541  0.98037453 -0.90100952 ...  0.52979134  0.3188711\n",
      "   0.29394871]\n",
      " [ 5.18835709  1.49535003  1.7543666  ... -0.40838506  0.02821513\n",
      "  -0.32318785]]\n",
      "(4149, 25)\n"
     ]
    }
   ],
   "source": [
    "#测试集数据降维到25维\n",
    "pca = PCA(n_components=25)\n",
    "\n",
    "X_norm = StandardScaler().fit_transform(X_test)\n",
    "X_test_pca = pca.fit_transform(X_norm)\n",
    "\n",
    "print(X_test_pca)\n",
    "print(X_test_pca.shape)"
   ]
  },
  {
   "cell_type": "code",
   "execution_count": 17,
   "id": "49753a09",
   "metadata": {},
   "outputs": [
    {
     "name": "stdout",
     "output_type": "stream",
     "text": [
      "[1 1 0 ... 1 0 0]\n",
      "(4149,)\n",
      "PCA测试集准确率: 0.9115\n",
      "\n",
      "\n",
      "PCA测试集精确率: 0.9257\n",
      "\n",
      "\n",
      "PCA测试集召回率: 0.8991\n",
      "\n",
      "\n",
      "PCA测试集F1值: 0.9122\n"
     ]
    }
   ],
   "source": [
    "#模型预测\n",
    "from sklearn.metrics import accuracy_score\n",
    "from sklearn.metrics import precision_score\n",
    "from sklearn.metrics import recall_score\n",
    "from sklearn.metrics import f1_score\n",
    "\n",
    "y_predict_pca = PCA_RF.predict(X_test_pca)\n",
    "print(y_predict_pca)\n",
    "print(y_predict_pca.shape)\n",
    "accuracy_pca = accuracy_score(y_test,y_predict_pca)\n",
    "print(\"PCA测试集准确率: {0:.4f}\".format(accuracy_pca))\n",
    "\n",
    "precision_pca =precision_score(y_test,y_predict_pca)\n",
    "print(\"\\n\\nPCA测试集精确率: {0:.4f}\".format(precision_pca))\n",
    "\n",
    "recall_pca =recall_score(y_test,y_predict_pca)\n",
    "print(\"\\n\\nPCA测试集召回率: {0:.4f}\".format(recall_pca))\n",
    "\n",
    "f1_pca =f1_score(y_test,y_predict_pca)\n",
    "print(\"\\n\\nPCA测试集F1值: {0:.4f}\".format(f1_pca))"
   ]
  },
  {
   "cell_type": "code",
   "execution_count": 18,
   "id": "7cfcc2f2",
   "metadata": {},
   "outputs": [
    {
     "name": "stdout",
     "output_type": "stream",
     "text": [
      "[[1875  153]\n",
      " [ 214 1907]]\n"
     ]
    }
   ],
   "source": [
    "#制作PCA混淆矩阵\n",
    "from sklearn.metrics import confusion_matrix\n",
    "cm = confusion_matrix(y_test, y_predict_pca)\n",
    "print(cm)"
   ]
  },
  {
   "cell_type": "code",
   "execution_count": 19,
   "id": "9c8623d8",
   "metadata": {},
   "outputs": [
    {
     "name": "stdout",
     "output_type": "stream",
     "text": [
      "正确预测值的数量:  3782\n",
      "错误预测值的数量:  367\n"
     ]
    }
   ],
   "source": [
    "#从混淆矩阵中寻找准确性。\n",
    "a = cm.shape\n",
    "corrPred = 0\n",
    "falsePred = 0\n",
    "\n",
    "for row in range(a[0]):\n",
    "    for c in range(a[1]):\n",
    "        if row == c:\n",
    "            corrPred +=cm[row,c]\n",
    "        else:\n",
    "            falsePred += cm[row,c]\n",
    "print('正确预测值的数量: ', corrPred)\n",
    "print('错误预测值的数量: ', falsePred)\n",
    "#print ('\\n\\nKNN分类器的准确率为: ', corrPred/(cm.sum()))"
   ]
  },
  {
   "cell_type": "code",
   "execution_count": 20,
   "id": "03ae3c5c",
   "metadata": {},
   "outputs": [
    {
     "name": "stdout",
     "output_type": "stream",
     "text": [
      "              precision    recall  f1-score   support\n",
      "\n",
      "           0     0.8976    0.9246    0.9109      2028\n",
      "           1     0.9257    0.8991    0.9122      2121\n",
      "\n",
      "    accuracy                         0.9115      4149\n",
      "   macro avg     0.9116    0.9118    0.9115      4149\n",
      "weighted avg     0.9120    0.9115    0.9116      4149\n",
      "\n"
     ]
    }
   ],
   "source": [
    "from sklearn.metrics import accuracy_score,f1_score,confusion_matrix,classification_report\n",
    "\n",
    "print(classification_report(y_test, y_predict_pca,digits=4))"
   ]
  },
  {
   "cell_type": "code",
   "execution_count": 21,
   "id": "2e3fc047",
   "metadata": {},
   "outputs": [
    {
     "data": {
      "image/png": "[encoded data removed]",
      "text/plain": [
       "<Figure size 432x288 with 2 Axes>"
      ]
     },
     "metadata": {
      "needs_background": "light"
     },
     "output_type": "display_data"
    }
   ],
   "source": [
    "classes = list(set(y))\n",
    "classes.sort()\n",
    "confusion = confusion_matrix(y_predict_pca, y_test)\n",
    "plt.imshow(confusion, cmap=plt.cm.Blues)\n",
    "indices = range(len(confusion))\n",
    "plt.xticks(indices, classes, fontsize=20)\n",
    "plt.yticks(indices, classes, fontsize=20)\n",
    "plt.colorbar().ax.tick_params(labelsize=20)\n",
    "plt.xlabel('Predicted label', fontsize=20)\n",
    "plt.ylabel('True label', fontsize=20)\n",
    "for first_index in range(len(confusion)):\n",
    "    for second_index in range(len(confusion[first_index])):\n",
    "        plt.text(first_index, second_index, confusion[first_index][second_index],\n",
    "                 va='center', ha='center',fontsize=20, )\n",
    "\n",
    "plt.show()"
   ]
  },
  {
   "cell_type": "code",
   "execution_count": 22,
   "id": "69526467",
   "metadata": {},
   "outputs": [
    {
     "name": "stdout",
     "output_type": "stream",
     "text": [
      "10折交叉验证准确率： [0.9952 1.     0.9904 0.9976 0.9831 0.9928 0.9952 0.9952 0.9952 0.9952]\n",
      "\n",
      "\n",
      "10折交叉验证平均准确率： 0.994\n"
     ]
    }
   ],
   "source": [
    "# K折交叉验证模块 \n",
    "from sklearn.model_selection import cross_val_score \n",
    "#使用K折交叉验证模块  \n",
    "#scores = cross_val_score(nvclassifier, X_test, y_test, cv=10, scoring='accuracy')  \n",
    "scores = cross_val_score(PCA_RF, X_test_pca, y_test, cv=10,scoring='accuracy')  \n",
    "\n",
    "scores = np.around(scores,decimals=4)\n",
    "\n",
    "#将10次的预测准确率打印出  \n",
    "print('10折交叉验证准确率：',scores)  \n",
    "# [0.92 1.   0.83 0.88 0.91 0.96 1.   1.   0.78 0.74]\n",
    "#将10次的预测准确平均率打印出0.901630434782608  \n",
    "\n",
    "scoresmean = np.around(scores.mean(),decimals=4)\n",
    "\n",
    "print('\\n\\n10折交叉验证平均准确率：',scoresmean)"
   ]
  },
  {
   "cell_type": "code",
   "execution_count": 23,
   "id": "b51e5a38",
   "metadata": {},
   "outputs": [
    {
     "name": "stdout",
     "output_type": "stream",
     "text": [
      "10折交叉验证精确率： [0.9953 1.     0.9952 0.9953 0.9904 1.     0.9907 1.     0.9907 0.9953]\n",
      "\n",
      "\n",
      "10折交叉验证平均精确率： 0.9953\n"
     ]
    }
   ],
   "source": [
    "precision = cross_val_score(PCA_RF, X_test_pca, y_test, cv=10,scoring='precision') \n",
    "\n",
    "precision = np.around(precision,decimals=4)\n",
    "\n",
    "print('10折交叉验证精确率：',precision)\n",
    "\n",
    "precisionmean = np.around(precision.mean(),decimals=4)\n",
    "\n",
    "print('\\n\\n10折交叉验证平均精确率：',precisionmean)"
   ]
  },
  {
   "cell_type": "code",
   "execution_count": 24,
   "id": "3b223881",
   "metadata": {},
   "outputs": [
    {
     "name": "stdout",
     "output_type": "stream",
     "text": [
      "10折交叉验证精确率： [0.9953 1.     0.9858 1.     0.9764 0.9858 1.     0.9906 1.     0.9953]\n",
      "\n",
      "\n",
      "10折交叉验证平均召回率： 0.9929\n"
     ]
    }
   ],
   "source": [
    "recall = cross_val_score(PCA_RF, X_test_pca, y_test, cv=10,scoring='recall') \n",
    "\n",
    "recall = np.around(recall,decimals=4)\n",
    "\n",
    "print('10折交叉验证精确率：',recall)\n",
    "\n",
    "recallmean = np.around(recall.mean(),decimals=4)\n",
    "\n",
    "print('\\n\\n10折交叉验证平均召回率：',recallmean)"
   ]
  },
  {
   "cell_type": "code",
   "execution_count": 25,
   "id": "3919d5f9",
   "metadata": {},
   "outputs": [
    {
     "name": "stdout",
     "output_type": "stream",
     "text": [
      "10折交叉验证f1值： [0.9953 1.     0.9905 0.9976 0.9834 0.9929 0.9953 0.9953 0.9953 0.9953]\n",
      "\n",
      "\n",
      "10折交叉验证平均f1值： 0.9941\n"
     ]
    }
   ],
   "source": [
    "f1 = cross_val_score(PCA_RF, X_test_pca, y_test, cv=10,scoring='f1') \n",
    "\n",
    "f1 = np.around(f1,decimals=4)\n",
    "\n",
    "print('10折交叉验证f1值：',f1)\n",
    "\n",
    "f1mean = np.around(f1.mean(),decimals=4)\n",
    "\n",
    "print('\\n\\n10折交叉验证平均f1值：',f1mean)"
   ]
  },
  {
   "cell_type": "code",
   "execution_count": 26,
   "id": "eaa6f26b",
   "metadata": {},
   "outputs": [
    {
     "name": "stdout",
     "output_type": "stream",
     "text": [
      "10折交叉验证roc_auc值： [0.9999 1.     0.9999 1.     0.9997 0.9997 1.     0.9998 1.     0.9997]\n",
      "\n",
      "\n",
      "10折交叉验证平均ROC_AUC值： 0.9999\n"
     ]
    }
   ],
   "source": [
    "roc_auc = cross_val_score(PCA_RF,  X_test_pca, y_test, cv=10,scoring='roc_auc') \n",
    "\n",
    "roc_auc = np.around(roc_auc,decimals=4)\n",
    "\n",
    "print('10折交叉验证roc_auc值：',roc_auc)\n",
    "\n",
    "roc_auc = np.around(roc_auc.mean(),decimals=4)\n",
    "\n",
    "print('\\n\\n10折交叉验证平均ROC_AUC值：',roc_auc.mean())"
   ]
  },
  {
   "cell_type": "code",
   "execution_count": 27,
   "id": "d8043cce",
   "metadata": {},
   "outputs": [
    {
     "name": "stdout",
     "output_type": "stream",
     "text": [
      "[0 1]\n"
     ]
    },
    {
     "data": {
      "image/png": "[encoded data removed]",
      "text/plain": [
       "<Figure size 432x288 with 1 Axes>"
      ]
     },
     "metadata": {
      "needs_background": "light"
     },
     "output_type": "display_data"
    }
   ],
   "source": [
    "from sklearn.metrics import precision_recall_curve\n",
    "precision, recall, t =precision_recall_curve(y_test, y_predict_pca) #y_score是预测的概率值，y_test是真实值标签值\n",
    "print(t) #t是阈值\n",
    "plt.xlabel('Recall')\n",
    "plt.ylabel('Precision')\n",
    "plt.ylim([0.0, 1.0])\n",
    "plt.xlim([0.0, 1.0])\n",
    "plt.plot(recall, precision)\n",
    "plt.title(\"Precision-Recall\")\n",
    "plt.show()"
   ]
  },
  {
   "cell_type": "code",
   "execution_count": null,
   "id": "b1df9100",
   "metadata": {},
   "outputs": [],
   "source": []
  }
 ],
 "metadata": {
  "kernelspec": {
   "display_name": "Python 3",
   "language": "python",
   "name": "python3"
  },
  "language_info": {
   "codemirror_mode": {
    "name": "ipython",
    "version": 3
   },
   "file_extension": ".py",
   "mimetype": "text/x-python",
   "name": "python",
   "nbconvert_exporter": "python",
   "pygments_lexer": "ipython3",
   "version": "3.6.13"
  }
 },
 "nbformat": 4,
 "nbformat_minor": 5
}
